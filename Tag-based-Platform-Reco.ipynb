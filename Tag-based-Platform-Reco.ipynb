{
 "cells": [
  {
   "cell_type": "markdown",
   "metadata": {},
   "source": [
    "# Recommendation engine"
   ]
  },
  {
   "cell_type": "markdown",
   "metadata": {},
   "source": [
    "# Step 1: Mining Association Rules Between Movies"
   ]
  },
  {
   "cell_type": "code",
   "execution_count": 33,
   "metadata": {},
   "outputs": [],
   "source": [
    "import pandas as pd\n",
    "import matplotlib.pyplot as plt"
   ]
  },
  {
   "cell_type": "code",
   "execution_count": 3,
   "metadata": {},
   "outputs": [],
   "source": [
    "df = pd.read_csv('movie_revenue_new_by_day_and_platform.csv').dropna()"
   ]
  },
  {
   "cell_type": "code",
   "execution_count": 6,
   "metadata": {},
   "outputs": [
    {
     "data": {
      "text/plain": [
       "['Movie_id',\n",
       " 'Mama_id',\n",
       " 'Title',\n",
       " 'Country_of_origin',\n",
       " 'Country_of_market',\n",
       " 'Royalties',\n",
       " 'Date',\n",
       " 'Source']"
      ]
     },
     "execution_count": 6,
     "metadata": {},
     "output_type": "execute_result"
    }
   ],
   "source": [
    "list(df.columns)"
   ]
  },
  {
   "cell_type": "markdown",
   "metadata": {},
   "source": [
    "### Check movies by 'Mama_id'"
   ]
  },
  {
   "cell_type": "code",
   "execution_count": 251,
   "metadata": {},
   "outputs": [
    {
     "data": {
      "text/html": [
       "<div>\n",
       "<style scoped>\n",
       "    .dataframe tbody tr th:only-of-type {\n",
       "        vertical-align: middle;\n",
       "    }\n",
       "\n",
       "    .dataframe tbody tr th {\n",
       "        vertical-align: top;\n",
       "    }\n",
       "\n",
       "    .dataframe thead th {\n",
       "        text-align: right;\n",
       "    }\n",
       "</style>\n",
       "<table border=\"1\" class=\"dataframe\">\n",
       "  <thead>\n",
       "    <tr style=\"text-align: right;\">\n",
       "      <th></th>\n",
       "      <th>Movie_id</th>\n",
       "      <th>Mama_id</th>\n",
       "      <th>Title</th>\n",
       "      <th>Country_of_origin</th>\n",
       "      <th>Country_of_market</th>\n",
       "      <th>Royalties</th>\n",
       "      <th>Date</th>\n",
       "      <th>Source</th>\n",
       "      <th>source_country</th>\n",
       "    </tr>\n",
       "  </thead>\n",
       "  <tbody>\n",
       "    <tr>\n",
       "      <td>2156906</td>\n",
       "      <td>3208</td>\n",
       "      <td>32667</td>\n",
       "      <td>Kung Fury</td>\n",
       "      <td>SE</td>\n",
       "      <td>Argentina</td>\n",
       "      <td>7.0</td>\n",
       "      <td>2015-06-03</td>\n",
       "      <td>itunes</td>\n",
       "      <td>itunes Argentina</td>\n",
       "    </tr>\n",
       "    <tr>\n",
       "      <td>2156907</td>\n",
       "      <td>3208</td>\n",
       "      <td>32667</td>\n",
       "      <td>Kung Fury</td>\n",
       "      <td>SE</td>\n",
       "      <td>Argentina</td>\n",
       "      <td>3.5</td>\n",
       "      <td>2015-06-06</td>\n",
       "      <td>itunes</td>\n",
       "      <td>itunes Argentina</td>\n",
       "    </tr>\n",
       "    <tr>\n",
       "      <td>2156908</td>\n",
       "      <td>3208</td>\n",
       "      <td>32667</td>\n",
       "      <td>Kung Fury</td>\n",
       "      <td>SE</td>\n",
       "      <td>Argentina</td>\n",
       "      <td>3.5</td>\n",
       "      <td>2015-07-22</td>\n",
       "      <td>itunes</td>\n",
       "      <td>itunes Argentina</td>\n",
       "    </tr>\n",
       "    <tr>\n",
       "      <td>2156909</td>\n",
       "      <td>3208</td>\n",
       "      <td>32667</td>\n",
       "      <td>Kung Fury</td>\n",
       "      <td>SE</td>\n",
       "      <td>Argentina</td>\n",
       "      <td>3.5</td>\n",
       "      <td>2015-07-25</td>\n",
       "      <td>itunes</td>\n",
       "      <td>itunes Argentina</td>\n",
       "    </tr>\n",
       "    <tr>\n",
       "      <td>2156910</td>\n",
       "      <td>3208</td>\n",
       "      <td>32667</td>\n",
       "      <td>Kung Fury</td>\n",
       "      <td>SE</td>\n",
       "      <td>Argentina</td>\n",
       "      <td>2.1</td>\n",
       "      <td>2016-01-03</td>\n",
       "      <td>itunes</td>\n",
       "      <td>itunes Argentina</td>\n",
       "    </tr>\n",
       "    <tr>\n",
       "      <td>...</td>\n",
       "      <td>...</td>\n",
       "      <td>...</td>\n",
       "      <td>...</td>\n",
       "      <td>...</td>\n",
       "      <td>...</td>\n",
       "      <td>...</td>\n",
       "      <td>...</td>\n",
       "      <td>...</td>\n",
       "      <td>...</td>\n",
       "    </tr>\n",
       "    <tr>\n",
       "      <td>2165234</td>\n",
       "      <td>3208</td>\n",
       "      <td>32667</td>\n",
       "      <td>Kung Fury</td>\n",
       "      <td>SE</td>\n",
       "      <td>United States</td>\n",
       "      <td>24.5</td>\n",
       "      <td>2020-02-21</td>\n",
       "      <td>itunes</td>\n",
       "      <td>itunes United States</td>\n",
       "    </tr>\n",
       "    <tr>\n",
       "      <td>2165235</td>\n",
       "      <td>3208</td>\n",
       "      <td>32667</td>\n",
       "      <td>Kung Fury</td>\n",
       "      <td>SE</td>\n",
       "      <td>United States</td>\n",
       "      <td>31.5</td>\n",
       "      <td>2020-02-22</td>\n",
       "      <td>itunes</td>\n",
       "      <td>itunes United States</td>\n",
       "    </tr>\n",
       "    <tr>\n",
       "      <td>2165236</td>\n",
       "      <td>3208</td>\n",
       "      <td>32667</td>\n",
       "      <td>Kung Fury</td>\n",
       "      <td>SE</td>\n",
       "      <td>United States</td>\n",
       "      <td>17.5</td>\n",
       "      <td>2020-02-23</td>\n",
       "      <td>itunes</td>\n",
       "      <td>itunes United States</td>\n",
       "    </tr>\n",
       "    <tr>\n",
       "      <td>2165237</td>\n",
       "      <td>3208</td>\n",
       "      <td>32667</td>\n",
       "      <td>Kung Fury</td>\n",
       "      <td>SE</td>\n",
       "      <td>United States</td>\n",
       "      <td>7.0</td>\n",
       "      <td>2020-02-24</td>\n",
       "      <td>itunes</td>\n",
       "      <td>itunes United States</td>\n",
       "    </tr>\n",
       "    <tr>\n",
       "      <td>2165238</td>\n",
       "      <td>3208</td>\n",
       "      <td>32667</td>\n",
       "      <td>Kung Fury</td>\n",
       "      <td>SE</td>\n",
       "      <td>United States</td>\n",
       "      <td>10.5</td>\n",
       "      <td>2020-02-26</td>\n",
       "      <td>itunes</td>\n",
       "      <td>itunes United States</td>\n",
       "    </tr>\n",
       "  </tbody>\n",
       "</table>\n",
       "<p>8333 rows × 9 columns</p>\n",
       "</div>"
      ],
      "text/plain": [
       "         Movie_id  Mama_id      Title Country_of_origin Country_of_market  \\\n",
       "2156906      3208    32667  Kung Fury                SE         Argentina   \n",
       "2156907      3208    32667  Kung Fury                SE         Argentina   \n",
       "2156908      3208    32667  Kung Fury                SE         Argentina   \n",
       "2156909      3208    32667  Kung Fury                SE         Argentina   \n",
       "2156910      3208    32667  Kung Fury                SE         Argentina   \n",
       "...           ...      ...        ...               ...               ...   \n",
       "2165234      3208    32667  Kung Fury                SE     United States   \n",
       "2165235      3208    32667  Kung Fury                SE     United States   \n",
       "2165236      3208    32667  Kung Fury                SE     United States   \n",
       "2165237      3208    32667  Kung Fury                SE     United States   \n",
       "2165238      3208    32667  Kung Fury                SE     United States   \n",
       "\n",
       "         Royalties        Date  Source        source_country  \n",
       "2156906        7.0  2015-06-03  itunes      itunes Argentina  \n",
       "2156907        3.5  2015-06-06  itunes      itunes Argentina  \n",
       "2156908        3.5  2015-07-22  itunes      itunes Argentina  \n",
       "2156909        3.5  2015-07-25  itunes      itunes Argentina  \n",
       "2156910        2.1  2016-01-03  itunes      itunes Argentina  \n",
       "...            ...         ...     ...                   ...  \n",
       "2165234       24.5  2020-02-21  itunes  itunes United States  \n",
       "2165235       31.5  2020-02-22  itunes  itunes United States  \n",
       "2165236       17.5  2020-02-23  itunes  itunes United States  \n",
       "2165237        7.0  2020-02-24  itunes  itunes United States  \n",
       "2165238       10.5  2020-02-26  itunes  itunes United States  \n",
       "\n",
       "[8333 rows x 9 columns]"
      ]
     },
     "execution_count": 251,
     "metadata": {},
     "output_type": "execute_result"
    }
   ],
   "source": [
    "df[df['Mama_id']==32667]"
   ]
  },
  {
   "cell_type": "markdown",
   "metadata": {},
   "source": [
    "### Getting all client sources"
   ]
  },
  {
   "cell_type": "code",
   "execution_count": 11,
   "metadata": {},
   "outputs": [],
   "source": [
    "sources = list(df['Source'].unique())"
   ]
  },
  {
   "cell_type": "code",
   "execution_count": 18,
   "metadata": {},
   "outputs": [
    {
     "name": "stdout",
     "output_type": "stream",
     "text": [
      "['itunes', 'google', 'sony', 'amazon', 'vudu', 'rakuten', 'microsoft', 'vubiquity', 'hoopla', 'kanopy', 'vimeo', 'indemand', 'teleclub', 'orange', 'filmin', 'arte', 'pantaflix', 'eurocinema', 'tv5', 'mytf1', 'vod factory', 'canal vod', 'movistar', 'universciné', 'flimmit', 'huawei', 'sky', 'klic', 'curzon', 'proximus', 'universcine']\n",
      "________\n",
      "Number of client sources:\n",
      "31\n"
     ]
    }
   ],
   "source": [
    "print(sources)\n",
    "print('________')\n",
    "print('Number of client sources:')\n",
    "print(len(sources))"
   ]
  },
  {
   "cell_type": "code",
   "execution_count": 42,
   "metadata": {},
   "outputs": [
    {
     "data": {
      "image/png": "[encoded data removed]",
      "text/plain": [
       "<Figure size 1440x504 with 1 Axes>"
      ]
     },
     "metadata": {},
     "output_type": "display_data"
    }
   ],
   "source": [
    "plt.style.use('dark_background')\n",
    "df['Source'].value_counts().head(40).plot.bar(color = 'orange', figsize = (20, 7))\n",
    "plt.title('Source distribution', fontsize = 30, fontweight = 20)\n",
    "plt.xlabel('Source')\n",
    "plt.ylabel('Number of transactions')\n",
    "plt.show()"
   ]
  },
  {
   "cell_type": "markdown",
   "metadata": {},
   "source": [
    "### Getting all countries of market"
   ]
  },
  {
   "cell_type": "code",
   "execution_count": 19,
   "metadata": {},
   "outputs": [],
   "source": [
    "countries = list(df['Country_of_market'].unique())"
   ]
  },
  {
   "cell_type": "code",
   "execution_count": 21,
   "metadata": {},
   "outputs": [
    {
     "name": "stdout",
     "output_type": "stream",
     "text": [
      "['France', 'Switzerland', 'Argentina', 'Australia', 'Belgium', 'Brazil', 'Brunei Darussalam', 'Canada', 'Chile', 'Colombia', 'Costa Rica', 'Dominican Republic', 'Ecuador', 'Guatemala', 'Hong Kong', 'Indonesia', 'Ireland', 'Luxembourg', 'Macao', 'Malaysia', 'Mexico', 'Netherlands', 'New Zealand', 'Panama', 'Paraguay', 'Peru', 'Philippines', 'Singapore', 'Spain', 'Sri Lanka', 'Taiwan, Province of China', 'Thailand', 'United Kingdom', 'United States', 'Viet Nam', 'El Salvador', 'Hungary', 'Israel', 'Poland', 'Slovakia', 'Denmark', 'Finland', 'Italy', 'Norway', 'Sweden', 'Austria', 'Cambodia', 'Germany', 'Honduras', 'Venezuela, Bolivarian Republic of', 'Portugal', 'Nicaragua', 'Belarus', 'Bulgaria', 'Mozambique', 'South Africa', 'Bolivia, Plurinational State of', 'Bermuda', 'Cyprus', 'Estonia', 'Greece', 'Slovenia', 'Japan', 'Czech Republic', 'Lithuania', 'Malta', 'Turkey', 'Armenia', 'Mauritius', 'Latvia', \"Lao People's Democratic Republic\", 'Russian Federation', 'Azerbaijan', 'Namibia', 'Botswana', 'Zimbabwe', 'Cape Verde', 'Uganda', 'Mongolia', 'Moldova, Republic of', 'Puerto Rico', 'Cayman Islands', 'Virgin Islands, British', 'Fiji', 'Ukraine', 'Trinidad and Tobago', 'Greenland', 'India', 'Bahamas', 'Croatia', 'Romania', 'Tunisia', 'Saudi Arabia', 'United Arab Emirates', 'Lebanon', 'Myanmar']\n",
      "________\n",
      "Number of client countries:\n",
      "96\n"
     ]
    }
   ],
   "source": [
    "print(countries)\n",
    "print('________')\n",
    "print('Number of client countries:')\n",
    "print(len(countries))"
   ]
  },
  {
   "cell_type": "code",
   "execution_count": 40,
   "metadata": {},
   "outputs": [
    {
     "data": {
      "image/png": "[encoded data removed]",
      "text/plain": [
       "<Figure size 1440x504 with 1 Axes>"
      ]
     },
     "metadata": {},
     "output_type": "display_data"
    }
   ],
   "source": [
    "plt.style.use('dark_background')\n",
    "df['Country_of_market'].value_counts().head(40).plot.bar(color = 'orange', figsize = (20, 7))\n",
    "plt.title('Country of market distribution', fontsize = 30, fontweight = 20)\n",
    "plt.xlabel('Country of market')\n",
    "plt.ylabel('Number of transactions')\n",
    "plt.show()"
   ]
  },
  {
   "cell_type": "markdown",
   "metadata": {},
   "source": [
    "### Creating source_country column"
   ]
  },
  {
   "cell_type": "code",
   "execution_count": 23,
   "metadata": {},
   "outputs": [],
   "source": [
    "df['source_country'] = df[['Source', 'Country_of_market']].apply(lambda x: ' '.join(x), axis=1)"
   ]
  },
  {
   "cell_type": "code",
   "execution_count": 151,
   "metadata": {},
   "outputs": [],
   "source": [
    "source_country = list(df['source_country'].unique())"
   ]
  },
  {
   "cell_type": "code",
   "execution_count": 27,
   "metadata": {},
   "outputs": [
    {
     "name": "stdout",
     "output_type": "stream",
     "text": [
      "['itunes France', 'google France', 'itunes Switzerland', 'itunes Argentina', 'itunes Australia', 'google Australia', 'itunes Belgium', 'google Belgium', 'itunes Brazil', 'itunes Brunei Darussalam', 'itunes Canada', 'google Canada', 'itunes Chile', 'itunes Colombia', 'itunes Costa Rica', 'itunes Dominican Republic', 'itunes Ecuador', 'itunes Guatemala', 'itunes Hong Kong', 'google Hong Kong', 'itunes Indonesia', 'itunes Ireland', 'google Ireland', 'itunes Luxembourg', 'google Luxembourg', 'itunes Macao', 'itunes Malaysia', 'itunes Mexico', 'google Mexico', 'google Netherlands', 'itunes New Zealand', 'itunes Panama', 'itunes Paraguay', 'itunes Peru', 'itunes Philippines', 'itunes Singapore', 'itunes Spain', 'google Spain', 'itunes Sri Lanka', 'google Switzerland', 'itunes Taiwan, Province of China', 'google Taiwan, Province of China', 'itunes Thailand', 'itunes United Kingdom', 'google United Kingdom', 'itunes United States', 'google United States', 'itunes Viet Nam', 'itunes El Salvador', 'itunes Hungary', 'itunes Israel', 'itunes Poland', 'itunes Slovakia', 'itunes Denmark', 'itunes Finland', 'itunes Italy', 'sony Italy', 'itunes Norway', 'itunes Sweden', 'sony France', 'google Denmark', 'google Norway', 'google Sweden', 'amazon United Kingdom', 'amazon United States', 'google Finland', 'google Italy', 'itunes Austria', 'itunes Cambodia', 'itunes Germany', 'google Germany', 'itunes Honduras', 'itunes Netherlands', 'itunes Venezuela, Bolivarian Republic of', 'itunes Portugal', 'vudu United States', 'rakuten Italy', 'microsoft Norway', 'rakuten Spain', 'itunes Nicaragua', 'itunes Belarus', 'itunes Bulgaria', 'vudu Mexico', 'itunes Mozambique', 'itunes South Africa', 'itunes Bolivia, Plurinational State of', 'sony United States', 'itunes Bermuda', 'itunes Cyprus', 'itunes Estonia', 'amazon Germany', 'itunes Greece', 'itunes Slovenia', 'google Japan', 'microsoft Brazil', 'microsoft Mexico', 'sony Australia', 'sony Canada', 'sony United Kingdom', 'microsoft Sweden', 'microsoft Italy', 'microsoft Denmark', 'microsoft Finland', 'google Brazil', 'itunes Czech Republic', 'itunes Lithuania', 'itunes Malta', 'vubiquity United States', 'hoopla United States', 'google Austria', 'microsoft Germany', 'microsoft Switzerland', 'itunes Turkey', 'kanopy Australia', 'vimeo Australia', 'kanopy New Zealand', 'vimeo New Zealand', 'kanopy United Kingdom', 'vimeo United Kingdom', 'indemand United States', 'kanopy United States', 'vimeo United States', 'hoopla Canada', 'kanopy Canada', 'itunes Armenia', 'itunes Mauritius', 'vimeo Canada', 'microsoft Austria', 'teleclub Switzerland', 'itunes Latvia', 'google Malaysia', 'microsoft France', 'itunes Japan', 'orange France', 'sony Germany', 'google Singapore', 'sony Spain', 'filmin Spain', 'google Indonesia', 'arte France', 'pantaflix Germany', 'pantaflix Lithuania', 'filmin Portugal', 'google Portugal', 'pantaflix Spain', 'microsoft Spain', 'microsoft United Kingdom', \"itunes Lao People's Democratic Republic\", 'google Thailand', 'eurocinema United States', 'tv5 United States', 'itunes Russian Federation', 'google Russian Federation', 'itunes Azerbaijan', 'microsoft Canada', 'microsoft United States', 'itunes Namibia', 'itunes Botswana', 'mytf1 France', 'itunes Zimbabwe', 'itunes Cape Verde', 'vod factory France', 'canal vod France', 'amazon Japan', 'itunes Uganda', 'itunes Mongolia', 'microsoft Belgium', 'itunes Moldova, Republic of', 'vimeo Denmark', 'vimeo Norway', 'vimeo Puerto Rico', 'itunes Cayman Islands', 'sony Brazil', 'itunes Virgin Islands, British', 'microsoft Australia', 'microsoft New Zealand', 'vimeo France', 'itunes Fiji', 'vimeo Czech Republic', 'vimeo Netherlands', 'vimeo Slovenia', 'vimeo Switzerland', 'microsoft Ireland', 'vimeo Cambodia', 'vimeo Germany', 'vimeo Ireland', 'vimeo Poland', 'vimeo Portugal', 'vimeo Sweden', 'movistar Spain', 'vimeo Austria', 'vimeo Hong Kong', 'vimeo Indonesia', 'vimeo Italy', 'vimeo Japan', 'vimeo Slovakia', 'vimeo Spain', 'vimeo Thailand', 'vimeo Ukraine', 'universciné France', 'flimmit Austria', 'itunes Trinidad and Tobago', 'universciné Belgium', 'huawei Spain', 'sony Mexico', 'pantaflix United States', 'sky United Kingdom', 'vimeo Greenland', 'vimeo India', 'vimeo Mexico', 'itunes Bahamas', 'vimeo Malaysia', 'klic Mexico', 'curzon United Kingdom', 'sky Ireland', 'proximus Belgium', 'pantaflix Netherlands', 'microsoft Netherlands', 'pantaflix Finland', 'pantaflix Ireland', 'pantaflix United Kingdom', 'vimeo Brazil', 'vimeo Croatia', 'vimeo Romania', 'vimeo Tunisia', 'microsoft Japan', 'vimeo Singapore', 'vimeo Estonia', 'vimeo Finland', 'universcine Belgium', 'pantaflix Latvia', 'vimeo Colombia', 'vimeo Costa Rica', 'vimeo Greece', 'vimeo Russian Federation', 'vimeo Saudi Arabia', 'vimeo United Arab Emirates', 'vimeo Lebanon', 'vimeo Myanmar', 'rakuten France', 'vimeo Israel', 'pantaflix Italy', 'pantaflix France', 'pantaflix Norway', 'pantaflix Canada', 'pantaflix Belgium', 'rakuten Germany', 'pantaflix Poland', 'vimeo Belgium', 'pantaflix Denmark', 'pantaflix Austria', 'pantaflix Sweden', 'rakuten United Kingdom', 'pantaflix Greece', 'pantaflix Australia', 'pantaflix Estonia', 'pantaflix Switzerland', 'pantaflix Czech Republic', 'rakuten Belgium', 'rakuten Luxembourg']\n",
      "________\n",
      "Number of platforms - or source_country:\n",
      "260\n"
     ]
    }
   ],
   "source": [
    "print(source_country)\n",
    "print('________')\n",
    "print('Number of platforms - or source_country:')\n",
    "print(len(source_country))"
   ]
  },
  {
   "cell_type": "code",
   "execution_count": 130,
   "metadata": {},
   "outputs": [
    {
     "data": {
      "image/png": "[encoded data removed]",
      "text/plain": [
       "<Figure size 1440x504 with 1 Axes>"
      ]
     },
     "metadata": {},
     "output_type": "display_data"
    }
   ],
   "source": [
    "plt.style.use('dark_background')\n",
    "df['source_country'].value_counts().head(40).plot.bar(color = 'orange', figsize = (20, 7))\n",
    "plt.title('Platform distribution', fontsize = 30, fontweight = 20)\n",
    "plt.xlabel('Origin-to-market country')\n",
    "plt.ylabel('Number of transactions')\n",
    "plt.show()"
   ]
  },
  {
   "cell_type": "markdown",
   "metadata": {},
   "source": [
    "### Creating origin_to_market country column"
   ]
  },
  {
   "cell_type": "code",
   "execution_count": 30,
   "metadata": {},
   "outputs": [],
   "source": [
    "df['origin_to_market'] = df[['Country_of_origin', 'Country_of_market']].apply(lambda x: ' to '.join(x), axis=1)"
   ]
  },
  {
   "cell_type": "code",
   "execution_count": 152,
   "metadata": {},
   "outputs": [],
   "source": [
    "origin_to_market = list(df['origin_to_market'].unique())"
   ]
  },
  {
   "cell_type": "code",
   "execution_count": 35,
   "metadata": {},
   "outputs": [
    {
     "data": {
      "image/png": "[encoded data removed]",
      "text/plain": [
       "<Figure size 1440x504 with 1 Axes>"
      ]
     },
     "metadata": {},
     "output_type": "display_data"
    }
   ],
   "source": [
    "plt.style.use('dark_background')\n",
    "df['origin_to_market'].value_counts().head(40).plot.bar(color = 'orange', figsize = (20, 7))\n",
    "plt.title('Origin-to-market country distribution', fontsize = 30, fontweight = 20)\n",
    "plt.xlabel('Origin-to-market country')\n",
    "plt.ylabel('Number of transactions')\n",
    "plt.show()"
   ]
  },
  {
   "cell_type": "code",
   "execution_count": 153,
   "metadata": {
    "collapsed": true,
    "jupyter": {
     "outputs_hidden": true
    }
   },
   "outputs": [
    {
     "name": "stdout",
     "output_type": "stream",
     "text": [
      "['US to France', 'US to Switzerland', 'BE to Argentina', 'BE to Australia', 'BE to Belgium', 'BE to Brazil', 'BE to Brunei Darussalam', 'BE to Canada', 'BE to Chile', 'BE to Colombia', 'BE to Costa Rica', 'BE to Dominican Republic', 'BE to Ecuador', 'BE to France', 'BE to Guatemala', 'BE to Hong Kong', 'BE to Indonesia', 'BE to Ireland', 'BE to Luxembourg', 'BE to Macao', 'BE to Malaysia', 'BE to Mexico', 'BE to Netherlands', 'BE to New Zealand', 'BE to Panama', 'BE to Paraguay', 'BE to Peru', 'BE to Philippines', 'BE to Singapore', 'BE to Spain', 'BE to Sri Lanka', 'BE to Switzerland', 'BE to Taiwan, Province of China', 'BE to Thailand', 'BE to United Kingdom', 'BE to United States', 'BE to Viet Nam', 'FR to Belgium', 'FR to Canada', 'FR to France', 'FR to Luxembourg', 'FR to Switzerland', 'ES to Argentina', 'ES to Belgium', 'ES to Chile', 'ES to Colombia', 'ES to El Salvador', 'ES to France', 'ES to Guatemala', 'ES to Mexico', 'ES to Panama', 'ES to Peru', 'ES to Spain', 'ES to Switzerland', 'CA to Australia', 'CA to Belgium', 'CA to Canada', 'CA to France', 'CA to Hong Kong', 'CA to Hungary', 'CA to Ireland', 'CA to Israel', 'CA to Luxembourg', 'CA to Macao', 'CA to New Zealand', 'CA to Poland', 'CA to Slovakia', 'CA to Switzerland', 'CA to United Kingdom', 'CA to United States', 'US to Belgium', 'US to Denmark', 'US to Finland', 'US to Italy', 'US to Luxembourg', 'US to Norway', 'US to Sweden', 'BE to Denmark', 'BE to Finland', 'BE to Norway', 'BE to Sweden', 'US to Ireland', 'US to United Kingdom', 'FR to United Kingdom', 'FR to United States', 'FR to Denmark', 'FR to Finland', 'FR to Italy', 'FR to Norway', 'FR to Sweden', 'DE to France', 'DE to Spain', 'SG to France', 'SG to Switzerland', 'IN to Belgium', 'IN to France', 'IN to Luxembourg', 'IN to Switzerland', 'BE to Austria', 'BE to Cambodia', 'BE to El Salvador', 'BE to Germany', 'BE to Honduras', 'BE to Venezuela, Bolivarian Republic of', 'SG to Brunei Darussalam', 'SG to Hong Kong', 'SG to Malaysia', 'SG to Philippines', 'SG to Singapore', 'SG to Sri Lanka', 'SG to Taiwan, Province of China', 'SG to Thailand', 'MY to Hong Kong', 'MY to Philippines', 'MY to Singapore', 'MY to Taiwan, Province of China', 'MY to Viet Nam', 'FR to Argentina', 'FR to Australia', 'FR to Chile', 'FR to Colombia', 'FR to Costa Rica', 'FR to Dominican Republic', 'FR to Ecuador', 'FR to El Salvador', 'FR to Guatemala', 'FR to Honduras', 'FR to Hong Kong', 'FR to Ireland', 'FR to Malaysia', 'FR to Mexico', 'FR to Netherlands', 'FR to New Zealand', 'FR to Panama', 'FR to Paraguay', 'FR to Peru', 'FR to Singapore', 'FR to Spain', 'FR to Taiwan, Province of China', 'FR to Thailand', 'NL to Argentina', 'NL to Australia', 'NL to Brazil', 'NL to Canada', 'NL to Chile', 'NL to Colombia', 'NL to Ecuador', 'NL to France', 'NL to Guatemala', 'NL to Honduras', 'NL to Hong Kong', 'NL to Ireland', 'NL to Israel', 'NL to Malaysia', 'NL to Mexico', 'NL to New Zealand', 'NL to Panama', 'NL to Paraguay', 'NL to Peru', 'NL to Philippines', 'NL to Portugal', 'NL to Spain', 'NL to Switzerland', 'NL to Taiwan, Province of China', 'NL to Thailand', 'NL to United Kingdom', 'NL to United States', 'HK to Hong Kong', 'HK to Philippines', 'HK to Taiwan, Province of China', 'GB to Belgium', 'GB to France', 'GB to Luxembourg', 'GB to Switzerland', 'AT to Belgium', 'AT to France', 'AT to Luxembourg', 'AT to Switzerland', 'LT to France', 'LT to Switzerland', 'JP to Belgium', 'JP to France', 'JP to Italy', 'JP to Luxembourg', 'JP to Switzerland', 'JP to Spain', 'RU to France', 'RU to Switzerland', 'ZA to France', 'DE to Italy', 'DE to Switzerland', 'RU to Belgium', 'RU to Luxembourg', 'LU to Australia', 'LU to Austria', 'LU to Belgium', 'LU to Canada', 'LU to Denmark', 'LU to Finland', 'LU to France', 'LU to Germany', 'LU to Ireland', 'LU to Luxembourg', 'LU to Netherlands', 'LU to New Zealand', 'LU to Norway', 'LU to Sweden', 'LU to Switzerland', 'LU to United Kingdom', 'LU to United States', 'HK to Brunei Darussalam', 'HK to Macao', 'HK to Malaysia', 'HK to Singapore', 'HK to Thailand', 'HK to Viet Nam', 'HK to Indonesia', 'HK to Cambodia', 'HK to Sri Lanka', 'GB to Italy', 'GB to Spain', 'US to Spain', 'CN to France', 'HK to Belgium', 'HK to France', 'HK to Luxembourg', 'HK to Switzerland', 'ES to Dominican Republic', 'ES to Venezuela, Bolivarian Republic of', 'AT to Austria', 'AT to Canada', 'AT to Germany', 'AT to United States', 'DK to Belgium', 'DK to Colombia', 'DK to Costa Rica', 'DK to Ecuador', 'DK to El Salvador', 'DK to Guatemala', 'DK to Honduras', 'DK to Italy', 'DK to Luxembourg', 'DK to Nicaragua', 'DK to Panama', 'DK to Peru', 'DK to Switzerland', 'FR to Belarus', 'FR to Brazil', 'FR to Bulgaria', 'FR to Indonesia', 'FR to Israel', 'FR to Mozambique', 'FR to Philippines', 'FR to South Africa', 'FR to Venezuela, Bolivarian Republic of', 'FR to Viet Nam', 'AR to Argentina', 'AR to Bolivia, Plurinational State of', 'AR to Chile', 'AR to Colombia', 'AR to Costa Rica', 'AR to Ecuador', 'AR to El Salvador', 'AR to Guatemala', 'AR to Honduras', 'AR to Mexico', 'AR to Nicaragua', 'AR to Panama', 'AR to Paraguay', 'AR to Peru', 'AR to Spain', 'AR to Venezuela, Bolivarian Republic of', 'DK to Australia', 'DK to Canada', 'DK to Hong Kong', 'DK to Ireland', 'DK to Israel', 'DK to Malaysia', 'DK to New Zealand', 'DK to Philippines', 'DK to South Africa', 'DK to Taiwan, Province of China', 'DK to Thailand', 'DK to United Kingdom', 'DK to United States', 'KR to France', 'KR to Switzerland', 'TH to France', 'TH to Switzerland', 'IS to France', 'IS to Switzerland', 'VN to France', 'VN to Switzerland', 'DE to Belgium', 'DE to Luxembourg', 'ES to Denmark', 'ES to Finland', 'ES to Norway', 'ES to Sweden', 'IL to France', 'NZ to France', 'NZ to Switzerland', 'CN to Belgium', 'CN to Switzerland', 'DK to France', 'AU to France', 'AR to Belgium', 'AR to France', 'AR to Switzerland', 'DE to Argentina', 'DE to Austria', 'DE to Bermuda', 'DE to Bulgaria', 'DE to Canada', 'DE to Chile', 'DE to Colombia', 'DE to Cyprus', 'DE to Estonia', 'DE to Germany', 'DE to Greece', 'DE to Hong Kong', 'DE to Hungary', 'DE to Indonesia', 'DE to Ireland', 'DE to Israel', 'DE to Macao', 'DE to Malaysia', 'DE to Mexico', 'DE to Netherlands', 'DE to Peru', 'DE to Philippines', 'DE to Poland', 'DE to Singapore', 'DE to Slovakia', 'DE to Slovenia', 'DE to South Africa', 'DE to Sri Lanka', 'DE to Thailand', 'DE to United Kingdom', 'DE to United States', 'MY to Belgium', 'MY to France', 'MY to Switzerland', 'HR to Belgium', 'HR to France', 'HR to Switzerland', 'IT to France', 'FR to Sri Lanka', 'FR to Japan', 'FR to Macao', 'AU to Belgium', 'AU to Luxembourg', 'AU to Switzerland', 'US to Brazil', 'US to Mexico', 'MX to France', 'MX to Switzerland', 'SN to Belgium', 'SN to France', 'SN to Switzerland', 'MA to Belgium', 'MA to France', 'MA to Switzerland', 'JP to Canada', 'IE to France', 'IT to Belgium', 'IT to Luxembourg', 'IT to Switzerland', 'PL to France', 'SI to France', 'JP to Denmark', 'JP to Finland', 'JP to Norway', 'JP to Sweden', 'ES to Luxembourg', 'RO to France', 'RO to Italy', 'GB to Netherlands', 'DK to Spain', 'KR to Belgium', 'KR to Luxembourg', 'US to Argentina', 'US to Bolivia, Plurinational State of', 'US to Chile', 'US to Colombia', 'US to Costa Rica', 'US to Dominican Republic', 'US to Ecuador', 'US to El Salvador', 'US to Guatemala', 'US to Honduras', 'US to Panama', 'US to Paraguay', 'US to Peru', 'US to Venezuela, Bolivarian Republic of', 'GB to Ireland', 'GB to United Kingdom', 'CA to Mexico', 'CA to Netherlands', 'CA to Spain', 'IT to Spain', 'AU to Spain', 'AR to Dominican Republic', 'CZ to Belgium', 'CZ to France', 'CZ to Luxembourg', 'LU to Estonia', 'LU to Hong Kong', 'LU to Malaysia', 'LU to Philippines', 'LU to Poland', 'LU to Sri Lanka', 'DK to Netherlands', 'NL to Brunei Darussalam', 'NL to Cyprus', 'NL to South Africa', 'NL to Belgium', 'NL to Netherlands', 'NO to Austria', 'NO to Belgium', 'NO to Germany', 'NO to Luxembourg', 'NO to Netherlands', 'NO to Norway', 'NO to Switzerland', 'US to Netherlands', 'CN to Luxembourg', 'BE to Bermuda', 'BE to Czech Republic', 'BE to Estonia', 'BE to Greece', 'BE to Hungary', 'BE to Israel', 'BE to Lithuania', 'BE to Malta', 'BE to Nicaragua', 'BE to Poland', 'BE to Slovakia', 'BE to South Africa', 'BE to Slovenia', 'RO to Switzerland', 'IE to Denmark', 'IE to Finland', 'IE to Norway', 'IE to Sweden', 'TR to Austria', 'TR to Belgium', 'TR to France', 'TR to Germany', 'TR to Netherlands', 'TR to Switzerland', 'TR to United Kingdom', 'TR to Turkey', 'US to Australia', 'US to Canada', 'US to New Zealand', 'US to United States', 'CO to Argentina', 'CO to Armenia', 'CO to Australia', 'CO to Bolivia, Plurinational State of', 'CO to Brazil', 'CO to Canada', 'CO to Chile', 'CO to Colombia', 'CO to Costa Rica', 'CO to Dominican Republic', 'CO to Ecuador', 'CO to El Salvador', 'CO to Guatemala', 'CO to Honduras', 'CO to Hong Kong', 'CO to Ireland', 'CO to Israel', 'CO to Malaysia', 'CO to Mauritius', 'CO to Mexico', 'CO to New Zealand', 'CO to Nicaragua', 'CO to Panama', 'CO to Paraguay', 'CO to Peru', 'CO to Philippines', 'CO to South Africa', 'CO to Spain', 'CO to Taiwan, Province of China', 'CO to United Kingdom', 'CO to United States', 'CO to Venezuela, Bolivarian Republic of', 'US to Turkey', 'IT to Italy', 'GB to Denmark', 'GB to Finland', 'GB to Norway', 'GB to Sweden', 'AU to Denmark', 'AU to Finland', 'AU to Norway', 'AU to Sweden', 'IT to Denmark', 'IT to Norway', 'IT to Sweden', 'IT to Finland', 'RU to Spain', 'NO to Spain', 'CZ to Spain', 'IT to Cambodia', 'IT to Hong Kong', 'IT to Ireland', 'IT to Israel', 'IT to Macao', 'IT to Malaysia', 'IT to Philippines', 'IT to Taiwan, Province of China', 'IT to Thailand', 'IT to United Kingdom', 'CH to Canada', 'CH to Ireland', 'CH to Switzerland', 'CH to United Kingdom', 'CH to United States', 'GB to Australia', 'GB to Austria', 'GB to Canada', 'GB to Colombia', 'GB to Costa Rica', 'GB to Germany', 'GB to Hong Kong', 'GB to Israel', 'GB to Malaysia', 'GB to Mexico', 'GB to New Zealand', 'GB to Peru', 'GB to Thailand', 'ES to Costa Rica', 'ES to Nicaragua', 'ES to Paraguay', 'ES to Ecuador', 'RU to Austria', 'RU to Germany', 'IE to Italy', 'IE to Spain', 'NZ to Australia', 'NZ to Canada', 'NZ to New Zealand', 'NZ to South Africa', 'NZ to United Kingdom', 'NZ to United States', 'FR to Lithuania', 'FR to Poland', 'CH to Australia', 'CH to Austria', 'CH to Bulgaria', 'CH to Cyprus', 'CH to Czech Republic', 'CH to Estonia', 'CH to Germany', 'CH to Greece', 'CH to Hong Kong', 'CH to Israel', 'CH to Latvia', 'CH to Lithuania', 'CH to Macao', 'CH to Malaysia', 'CH to Malta', 'CH to Mauritius', 'CH to Poland', 'CH to Slovenia', 'CH to Taiwan, Province of China', 'CH to Thailand', 'SE to Italy', 'SE to Switzerland', 'AU to Canada', 'AU to United States', 'GB to United States', 'JP to Australia', 'JP to Hong Kong', 'JP to Indonesia', 'JP to Ireland', 'JP to Macao', 'JP to Malaysia', 'JP to New Zealand', 'JP to Philippines', 'JP to Taiwan, Province of China', 'JP to Thailand', 'JP to United Kingdom', 'JP to United States', 'JP to Viet Nam', 'NP to Italy', 'AT to Italy', 'KR to Italy', 'ES to Italy', 'IL to Italy', 'FR to Bolivia, Plurinational State of', 'FR to Nicaragua', 'CA to Italy', 'AR to Denmark', 'AR to Finland', 'AR to Italy', 'AR to Norway', 'AR to Sweden', 'BE to Italy', 'AU to Italy', 'RU to Italy', 'CN to Italy', 'DK to Denmark', 'GB to Turkey', 'BR to Brazil', 'BR to Denmark', 'BR to Norway', 'BR to Spain', 'CA to Finland', 'MX to Italy', 'FR to Turkey', 'CA to Estonia', 'CA to Latvia', 'CA to Norway', 'CA to Sweden', 'PL to Italy', 'SE to Denmark', 'SE to Finland', 'SE to Norway', 'SE to Portugal', 'SE to Sweden', 'NO to Italy', 'CA to Japan', 'CA to Taiwan, Province of China', 'CA to Thailand', 'BR to France', 'ES to Brazil', 'SE to Czech Republic', 'SE to France', 'SE to Hungary', 'SE to Slovakia', 'HK to Italy', 'US to Germany', 'GB to Argentina', 'GB to Brazil', 'GB to Bulgaria', 'GB to Chile', 'GB to Czech Republic', 'GB to Dominican Republic', 'GB to Ecuador', 'GB to El Salvador', 'GB to Guatemala', 'GB to Hungary', 'GB to Indonesia', 'GB to Macao', 'GB to Nicaragua', 'GB to Panama', 'GB to Paraguay', 'GB to Philippines', 'GB to Poland', 'GB to Portugal', 'GB to Singapore', 'GB to Slovakia', 'GB to Taiwan, Province of China', 'GB to Venezuela, Bolivarian Republic of', 'GB to Viet Nam', 'UY to Argentina', 'UY to Australia', 'UY to Canada', 'UY to Chile', 'UY to Colombia', 'UY to Costa Rica', 'UY to Dominican Republic', 'UY to Ecuador', 'UY to El Salvador', 'UY to Guatemala', 'UY to Honduras', 'UY to Ireland', 'UY to Mexico', 'UY to New Zealand', 'UY to Panama', 'UY to Paraguay', 'UY to Peru', 'UY to Spain', 'UY to United Kingdom', 'UY to United States', 'UY to Venezuela, Bolivarian Republic of', 'AR to Australia', 'AR to Brazil', 'AR to Canada', 'AR to Hong Kong', 'AR to Ireland', 'AR to New Zealand', 'AR to United Kingdom', 'AR to United States', 'DE to Brazil', 'DE to Ecuador', 'DE to Venezuela, Bolivarian Republic of', 'CN to Brazil', 'CN to Singapore', 'CN to Spain', 'PH to France', 'NO to France', 'NO to Ireland', 'NO to Poland', 'NO to United Kingdom', 'UY to France', 'CH to France', 'MY to Denmark', 'MY to Finland', 'MY to Italy', 'MY to Norway', 'MY to Sweden', 'FI to Italy', 'FI to Switzerland', 'US to Indonesia', 'US to Singapore', 'HK to Denmark', 'HK to Finland', 'HK to Norway', 'HK to Sweden', 'PE to Italy', 'TW to Cambodia', 'TW to Hong Kong', 'TW to Ireland', 'TW to Macao', 'TW to Malaysia', 'TW to Philippines', 'TW to Singapore', 'TW to Thailand', 'TW to United Kingdom', 'TW to Viet Nam', 'HK to Australia', 'HK to Canada', 'HK to United Kingdom', 'HK to United States', 'AT to Australia', 'AT to Czech Republic', 'AT to Estonia', 'AT to Greece', 'AT to Hungary', 'AT to Latvia', 'AT to Malta', 'AT to Netherlands', 'AT to New Zealand', 'AT to Poland', 'AT to Slovakia', 'AT to United Kingdom', 'NZ to Hong Kong', 'NZ to Ireland', 'NZ to Israel', 'NZ to Malaysia', 'NZ to Philippines', 'NZ to Poland', 'NZ to Singapore', 'NZ to Taiwan, Province of China', 'NZ to Czech Republic', 'NZ to Thailand', 'SE to Argentina', 'SE to Australia', 'SE to Belgium', 'SE to Canada', 'SE to Chile', 'SE to Colombia', 'SE to Costa Rica', 'SE to Ecuador', 'SE to Guatemala', 'SE to Hong Kong', 'SE to Israel', 'SE to Malaysia', 'SE to Mexico', 'SE to New Zealand', 'SE to Panama', 'SE to Paraguay', 'SE to Peru', 'SE to Philippines', 'SE to South Africa', 'SE to Spain', 'SE to Taiwan, Province of China', 'SE to Thailand', 'SE to United Kingdom', 'SE to United States', 'FR to Austria', 'FR to Germany', 'FR to Hungary', 'FR to Portugal', 'IT to Armenia', 'IT to Australia', 'IT to Mozambique', 'IT to New Zealand', 'IT to South Africa', 'CZ to Argentina', 'CZ to Australia', 'CZ to Austria', 'CZ to Canada', 'CZ to Chile', 'CZ to Colombia', 'CZ to Costa Rica', 'CZ to Czech Republic', 'CZ to Ecuador', 'CZ to Germany', 'CZ to Hong Kong', 'CZ to Ireland', 'CZ to Malaysia', 'CZ to Mexico', 'CZ to Mozambique', 'CZ to New Zealand', 'CZ to Paraguay', 'CZ to Peru', 'CZ to Philippines', 'CZ to Slovakia', 'CZ to Switzerland', 'CZ to Taiwan, Province of China', 'CZ to Thailand', 'CZ to United Kingdom', 'CZ to United States', 'CZ to Venezuela, Bolivarian Republic of', 'CZ to Viet Nam', 'GB to Sri Lanka', 'ZA to Canada', 'ZA to United States', 'FI to France', 'FI to Spain', 'ES to Canada', 'ES to United States', 'CH to Belgium', 'CH to Luxembourg', 'CH to Netherlands', 'KR to Argentina', 'KR to Brazil', 'KR to Chile', 'KR to Colombia', 'KR to Costa Rica', 'KR to Dominican Republic', 'KR to Ecuador', 'KR to El Salvador', 'KR to Guatemala', 'KR to Honduras', 'KR to Mexico', 'KR to Nicaragua', 'KR to Panama', 'KR to Paraguay', 'KR to Peru', 'KR to Venezuela, Bolivarian Republic of', 'JP to Argentina', 'JP to Brazil', 'JP to Chile', 'JP to Colombia', 'JP to Costa Rica', 'JP to Dominican Republic', 'JP to Ecuador', 'JP to El Salvador', 'JP to Honduras', 'JP to Mexico', 'JP to Panama', 'JP to Paraguay', 'JP to Peru', 'CN to Argentina', 'CN to Chile', 'CN to Colombia', 'CN to Costa Rica', 'CN to Dominican Republic', 'CN to Ecuador', 'CN to El Salvador', 'CN to Honduras', 'CN to Mexico', 'CN to Nicaragua', 'CN to Panama', 'CN to Peru', 'CN to Venezuela, Bolivarian Republic of', 'KR to Bolivia, Plurinational State of', 'JP to Nicaragua', 'JP to Venezuela, Bolivarian Republic of', 'CN to Denmark', 'CN to Finland', 'CN to Norway', 'CN to Sweden', 'PT to France', 'PL to Austria', 'PL to Canada', 'PL to Germany', 'PL to Poland', 'PL to Switzerland', 'PL to United Kingdom', 'PL to United States', 'TH to Australia', 'TH to Brunei Darussalam', 'TH to Cambodia', 'TH to Canada', 'TH to Hong Kong', 'TH to Hungary', 'TH to Ireland', \"TH to Lao People's Democratic Republic\", 'TH to Macao', 'TH to Malaysia', 'TH to Philippines', 'TH to Singapore', 'TH to Sri Lanka', 'TH to Taiwan, Province of China', 'TH to Thailand', 'TH to United Kingdom', 'TH to United States', 'TH to Viet Nam', 'TH to Estonia', 'TH to New Zealand', 'TH to Slovakia', 'CL to Bolivia, Plurinational State of', 'CL to Colombia', 'CL to Costa Rica', 'CL to Ecuador', 'CL to El Salvador', 'CL to Guatemala', 'CL to Honduras', 'CL to Mexico', 'CL to Nicaragua', 'CL to Panama', 'CL to Peru', 'CL to Portugal', 'CH to Italy', 'CH to Portugal', 'US to Nicaragua', 'GB to Honduras', 'AT to Colombia', 'AT to Costa Rica', 'AT to Ecuador', 'AT to El Salvador', 'AT to Honduras', 'AT to Nicaragua', 'AT to Panama', 'IT to Argentina', 'IT to Bolivia, Plurinational State of', 'IT to Chile', 'IT to Colombia', 'IT to Costa Rica', 'IT to Dominican Republic', 'IT to Ecuador', 'IT to El Salvador', 'IT to Guatemala', 'IT to Honduras', 'IT to Mexico', 'IT to Nicaragua', 'IT to Panama', 'IT to Paraguay', 'IT to Peru', 'GB to Estonia', 'GB to Latvia', 'GB to Lithuania', 'GB to Russian Federation', 'CN to Australia', 'CN to Canada', 'CN to Hong Kong', 'CN to Macao', 'CN to New Zealand', 'CN to Philippines', 'CN to Taiwan, Province of China', 'CN to United Kingdom', 'CN to United States', 'CN to Viet Nam', 'CN to Ireland', 'CN to Thailand', 'US to Hong Kong', 'US to Malaysia', 'US to Philippines', 'US to South Africa', 'US to Taiwan, Province of China', 'US to Thailand', 'TR to Australia', 'TR to Azerbaijan', 'TR to Canada', 'TR to United States', 'ZA to Denmark', 'ZA to Finland', 'ZA to Italy', 'ZA to Norway', 'ZA to Sweden', 'US to Portugal', 'US to Estonia', 'US to Latvia', 'US to Lithuania', 'TH to Belgium', 'TH to Luxembourg', 'KZ to Belgium', 'KZ to France', 'KZ to Luxembourg', 'KZ to Switzerland', 'ES to Bolivia, Plurinational State of', 'SA to Italy', 'DE to Australia', 'IT to Canada', 'IT to United States', 'NL to Austria', 'NL to Germany', 'NL to Luxembourg', 'NL to Poland', 'NL to Singapore', 'NL to Slovakia', 'TN to Australia', 'TN to Belgium', 'TN to Canada', 'TN to Chile', 'TN to France', 'TN to Ireland', 'TN to Mexico', 'TN to Spain', 'TN to Switzerland', 'TN to Taiwan, Province of China', 'TN to United Kingdom', 'TN to United States', 'FR to Cyprus', 'FR to Slovakia', 'FR to Czech Republic', 'MX to Argentina', 'MX to Brazil', 'MX to Canada', 'MX to Chile', 'MX to Colombia', 'MX to Dominican Republic', 'MX to Ecuador', 'MX to Mexico', 'MX to Peru', 'MX to Spain', 'MX to United States', 'JP to Austria', 'JP to Germany', 'NZ to Denmark', 'NZ to Finland', 'NZ to Latvia', 'NZ to Norway', 'NZ to Sweden', 'NZ to Viet Nam', 'CZ to Poland', 'CZ to Portugal', 'CZ to Russian Federation', 'DE to New Zealand', 'HK to Ireland', 'HK to New Zealand', 'PL to Argentina', 'PL to Australia', 'PL to Belgium', 'PL to Brazil', 'PL to Chile', 'PL to Colombia', 'PL to Costa Rica', 'PL to Czech Republic', 'PL to Denmark', 'PL to Dominican Republic', 'PL to Ecuador', 'PL to El Salvador', 'PL to Finland', 'PL to Guatemala', 'PL to Honduras', 'PL to Ireland', 'PL to Israel', 'PL to Japan', 'PL to Luxembourg', 'PL to Mauritius', 'PL to Mexico', 'PL to Netherlands', 'PL to New Zealand', 'PL to Norway', 'PL to Panama', 'PL to Paraguay', 'PL to Peru', 'PL to Portugal', 'PL to Slovakia', 'PL to Spain', 'PL to Sweden', 'PL to Hungary', 'PL to Venezuela, Bolivarian Republic of', 'PL to Bolivia, Plurinational State of', 'SN to Canada', 'SN to Ireland', 'SN to Israel', 'SN to Luxembourg', 'SN to Malaysia', 'SN to Netherlands', 'SN to Philippines', 'SN to Thailand', 'PL to Azerbaijan', 'PL to Hong Kong', 'PL to Macao', 'PL to Malaysia', 'PL to Mozambique', 'PL to Namibia', 'PL to Philippines', 'PL to Singapore', 'PL to Taiwan, Province of China', 'PL to Thailand', 'PL to Viet Nam', 'AR to Israel', 'AR to Luxembourg', 'AR to Portugal', 'AR to Cyprus', 'AR to Czech Republic', 'AR to Greece', 'AR to Malaysia', 'AR to Poland', 'AR to Taiwan, Province of China', 'CN to Malaysia', 'CN to Netherlands', 'IT to Singapore', 'GB to South Africa', 'TH to South Africa', 'IT to Austria', 'GB to Belarus', 'US to Viet Nam', 'PH to Australia', 'PH to Canada', 'PH to Malaysia', 'PH to Netherlands', 'PH to Philippines', 'PH to Taiwan, Province of China', 'PH to Thailand', 'PH to United Kingdom', 'PH to United States', 'KR to Sweden', 'RU to Australia', 'RU to Canada', 'RU to Russian Federation', 'RU to United Kingdom', 'RU to United States', 'DE to Bolivia, Plurinational State of', 'DE to Costa Rica', 'DE to Honduras', 'DE to Nicaragua', 'DE to Panama', 'DE to El Salvador', 'JP to Guatemala', 'PH to Czech Republic', 'PH to Ireland', 'PH to Japan', 'PH to Poland', 'BR to Argentina', 'BR to Australia', 'BR to Canada', 'BR to Colombia', 'BR to Costa Rica', 'BR to Guatemala', 'BR to Mexico', 'BR to Peru', 'BR to United Kingdom', 'BR to United States', 'TH to Netherlands', 'MX to Australia', 'MX to Costa Rica', 'MX to Guatemala', 'MX to Ireland', 'MX to Netherlands', 'MX to Panama', 'MX to United Kingdom', 'FR to Armenia', 'FR to Botswana', 'FR to Namibia', 'FR to Zimbabwe', 'PE to Belgium', 'PE to France', 'PE to Luxembourg', 'PE to Switzerland', 'LU to Cyprus', 'LU to Mauritius', 'ID to Belgium', 'ID to France', 'ID to Switzerland', 'BG to Bulgaria', 'BG to Canada', 'BG to United Kingdom', 'BG to United States', 'US to Israel', 'US to Mozambique', 'HK to Brazil', 'HK to Chile', 'HK to Colombia', 'HK to Costa Rica', 'HK to Mexico', 'HK to Peru', 'FI to Australia', 'FI to Canada', 'FI to Israel', 'FI to Malaysia', 'FI to Philippines', 'FI to Singapore', 'FI to Taiwan, Province of China', 'FI to Thailand', 'FI to United States', 'FI to Viet Nam', 'DK to Namibia', 'DK to Viet Nam', 'SE to Ireland', 'DE to Belarus', 'DE to Taiwan, Province of China', 'IS to Australia', 'IS to Hong Kong', 'IS to Ireland', 'IS to Israel', 'IS to New Zealand', 'IS to Singapore', 'IS to Taiwan, Province of China', 'IS to Thailand', 'IS to United Kingdom', 'IS to United States', 'SE to Armenia', 'SE to Singapore', 'SE to Viet Nam', 'SE to Botswana', 'SE to Namibia', 'SE to Sri Lanka', 'IL to Belgium', 'IL to Luxembourg', 'IL to Switzerland', 'GB to Greece', 'PL to Belarus', 'PL to Nicaragua', 'PL to Russian Federation', 'PL to South Africa', 'CH to Argentina', 'CH to Cape Verde', 'CH to Chile', 'CH to Colombia', 'CH to Costa Rica', 'CH to Dominican Republic', 'CH to Guatemala', 'CH to Mexico', 'CH to New Zealand', 'CH to Panama', 'CH to Peru', 'CH to Philippines', 'CH to Spain', 'CH to Viet Nam', 'IR to Italy', 'AT to Israel', 'AT to Malaysia', 'AT to Russian Federation', 'NL to Dominican Republic', 'TR to Ireland', 'TR to Luxembourg', 'TR to Israel', 'KR to Spain', 'IE to Singapore', 'KR to Denmark', 'KR to Finland', 'AU to Estonia', 'AU to Latvia', 'AU to Lithuania', 'MY to Luxembourg', 'MX to Bolivia, Plurinational State of', 'MX to El Salvador', 'MX to Honduras', 'MX to Paraguay', 'FR to Azerbaijan', 'FR to Greece', 'FR to Latvia', 'FR to Malta', 'FR to Russian Federation', 'LU to Bulgaria', 'LU to Israel', 'LU to Singapore', 'LU to Thailand', 'US to Austria', 'US to Namibia', 'CH to Russian Federation', 'AT to Argentina', 'AT to Bulgaria', 'AT to Chile', 'AT to Ireland', 'AT to Lithuania', 'AT to Mexico', 'AT to Philippines', 'AT to Spain', 'AT to Taiwan, Province of China', 'DK to Mexico', 'ZA to Australia', 'ZA to United Kingdom', 'BR to Austria', 'BR to Belgium', 'BR to Bolivia, Plurinational State of', 'BR to Botswana', 'BR to Bulgaria', 'BR to Chile', 'BR to Cyprus', 'BR to Czech Republic', 'BR to Dominican Republic', 'BR to Ecuador', 'BR to El Salvador', 'BR to Estonia', 'BR to Germany', 'BR to Greece', 'BR to Honduras', 'BR to Hong Kong', 'BR to Hungary', 'BR to Ireland', 'BR to Israel', 'BR to Italy', 'BR to Japan', 'BR to Latvia', 'BR to Lithuania', 'BR to Luxembourg', 'BR to Macao', 'BR to Malaysia', 'BR to Malta', 'BR to Panama', 'BR to Paraguay', 'BR to Philippines', 'BR to Poland', 'BR to Portugal', 'BR to Russian Federation', 'BR to Singapore', 'BR to Slovakia', 'BR to Sri Lanka', 'BR to Switzerland', 'BR to Taiwan, Province of China', 'BR to Thailand', 'BR to Venezuela, Bolivarian Republic of', 'TW to Italy', 'TW to Spain', 'KZ to Italy', 'CU to Italy', 'CU to Switzerland', 'TH to Italy', 'NL to Italy', 'TR to Italy', 'AF to Italy', 'HU to Argentina', 'HU to Australia', 'HU to Belgium', 'HU to Canada', 'HU to Chile', 'HU to Colombia', 'HU to Costa Rica', 'HU to Ecuador', 'HU to France', 'HU to Honduras', 'HU to Hong Kong', 'HU to Hungary', 'HU to Indonesia', 'HU to Ireland', 'HU to Malaysia', 'HU to Mexico', 'HU to Nicaragua', 'HU to Peru', 'HU to Poland', 'HU to Russian Federation', 'HU to Spain', 'HU to Switzerland', 'HU to Taiwan, Province of China', 'HU to Thailand', 'HU to United Kingdom', 'HU to United States', 'IE to Australia', 'IE to Canada', 'IE to Malaysia', 'IE to United States', 'BE to Japan', 'BE to Mozambique', 'BE to Namibia', 'BE to Uganda', 'FR to Mauritius', 'CA to Argentina', 'CA to Brazil', 'CA to Chile', 'CA to Colombia', 'CA to Costa Rica', 'CA to Dominican Republic', 'CA to El Salvador', 'CA to Guatemala', 'CA to Honduras', 'CA to Paraguay', 'CA to Peru', 'ES to Australia', 'ES to Azerbaijan', 'ES to Bulgaria', 'ES to Cyprus', 'ES to Czech Republic', 'ES to Estonia', 'ES to Greece', 'ES to Hong Kong', 'ES to Hungary', 'ES to Ireland', 'ES to Israel', 'ES to Latvia', 'ES to Malaysia', 'ES to Malta', 'ES to Mongolia', 'ES to New Zealand', 'ES to Philippines', 'ES to Poland', 'ES to Slovakia', 'ES to South Africa', 'ES to Taiwan, Province of China', 'ES to Thailand', 'ES to United Kingdom', 'FR to Estonia', 'IE to Cyprus', 'IE to Hong Kong', 'IE to Hungary', 'IE to Ireland', 'IE to Macao', 'IE to Taiwan, Province of China', 'IE to United Kingdom', 'IE to Viet Nam', 'LB to Australia', 'LB to Belgium', 'LB to France', 'LB to Ireland', 'LB to Malaysia', 'LB to Switzerland', 'LB to Taiwan, Province of China', 'LB to Thailand', 'LB to United Kingdom', 'RU to Cambodia', 'RU to Hong Kong', 'RU to Ireland', 'RU to Israel', 'RU to Macao', 'RU to Malaysia', 'RU to Taiwan, Province of China', 'RU to Thailand', 'RO to Australia', 'RO to Ireland', 'RO to Israel', 'RO to United Kingdom', 'AU to Australia', 'AU to United Kingdom', 'CU to Belgium', 'CU to France', 'CU to Luxembourg', 'CU to Sweden', 'CL to Italy', 'US to Bulgaria', 'US to Cape Verde', 'US to Czech Republic', 'US to Greece', 'US to Poland', 'US to Slovakia', 'US to Slovenia', 'ES to Singapore', 'IL to Denmark', 'IL to Finland', 'IL to Norway', 'IL to Sweden', 'SE to Estonia', 'IL to Spain', 'NZ to Belarus', 'NZ to Moldova, Republic of', 'NZ to Namibia', 'NZ to Zimbabwe', 'AU to Ireland', 'AU to Israel', 'AU to Slovakia', 'ZA to Hong Kong', 'ZA to Ireland', 'ZA to Malaysia', 'MX to Belgium', 'MX to Hong Kong', 'MX to Hungary', 'MX to Philippines', 'MX to Poland', 'MX to Slovenia', 'CH to Ecuador', 'CH to Paraguay', 'US to Malta', 'JO to Australia', 'JO to Canada', 'JO to Ireland', 'JO to United Kingdom', 'JO to United States', 'ES to Brunei Darussalam', 'ES to Honduras', 'ES to Slovenia', 'LU to Brunei Darussalam', 'LU to Taiwan, Province of China', 'CH to Slovakia', 'EG to Italy', 'ZA to Spain', 'ZA to Switzerland', 'CN to Brunei Darussalam', 'CN to Cambodia', 'IN to Denmark', 'IN to Finland', 'IN to Italy', 'IN to Norway', 'IN to Sweden', 'IT to Bulgaria', 'IT to Czech Republic', 'IT to Estonia', 'IT to Greece', 'IT to Hungary', 'IT to Latvia', 'IT to Lithuania', 'IT to Namibia', 'IT to Poland', 'IT to Russian Federation', 'IT to Slovakia', 'IT to Viet Nam', 'DE to Denmark', 'DE to Norway', 'DE to Portugal', 'DE to Sweden', 'FI to Finland', 'US to Hungary', 'US to Puerto Rico', 'BR to Finland', 'RS to Italy', 'TN to Italy', 'US to Cayman Islands', 'US to Cyprus', 'US to Macao', 'US to Sri Lanka', 'PL to Estonia', 'PL to Latvia', 'PL to Lithuania', 'PL to Slovenia', 'NL to Greece', 'NL to Hungary', 'NL to Sri Lanka', 'CA to Singapore', 'ES to Virgin Islands, British', 'GB to Cyprus', 'CA to Denmark', 'AU to New Zealand', 'AT to Denmark', 'AT to Finland', 'AT to Norway', 'AT to Sweden', 'DE to Czech Republic', 'DE to Dominican Republic', 'DE to Finland', 'DE to Guatemala', 'DE to Lithuania', 'DE to Paraguay', 'IT to Cyprus', 'IT to Germany', 'JO to Colombia', 'US to Bermuda', 'US to Japan', 'US to Azerbaijan', 'US to Botswana', 'US to Fiji', 'US to Armenia', 'RU to Denmark', 'RU to Finland', 'RU to Norway', 'RU to Sweden', 'US to Mongolia', 'AT to Azerbaijan', 'AT to Belarus', 'AT to Bolivia, Plurinational State of', 'AT to Botswana', 'AT to Brazil', 'AT to Cambodia', 'AT to Cyprus', 'AT to Dominican Republic', 'AT to Guatemala', 'AT to Hong Kong', 'AT to Japan', 'AT to Macao', 'AT to Mauritius', 'AT to Namibia', 'AT to Paraguay', 'AT to Peru', 'AT to Slovenia', 'AT to Sri Lanka', 'AT to Thailand', 'AT to Viet Nam', 'CL to Argentina', 'CL to Chile', 'CL to Paraguay', 'CL to Spain', 'FR to Slovenia', 'IS to Spain', 'IT to Netherlands', 'SE to Brazil', 'SE to Dominican Republic', 'SE to Honduras', 'AU to Czech Republic', 'AU to Greece', 'AU to Hong Kong', 'AU to Hungary', 'AU to Malaysia', 'AU to Malta', 'AU to Netherlands', 'AU to Philippines', 'AU to Taiwan, Province of China', 'AU to Thailand', 'NL to Denmark', 'NL to Finland', 'NL to Norway', 'NL to Sweden', 'NL to Czech Republic', 'NL to Estonia', 'NL to Latvia', 'NL to Lithuania', 'NL to Slovenia', 'FR to Moldova, Republic of', 'NO to Denmark', 'NO to Finland', 'IT to Azerbaijan', 'GB to Cambodia', 'GB to Slovenia', 'NG to Australia', 'NG to Belgium', 'NG to Canada', 'NG to Estonia', 'NG to Greece', 'NG to Hong Kong', 'NG to Netherlands', 'NG to Singapore', 'NG to Taiwan, Province of China', 'NG to United Kingdom', 'NG to United States', 'AR to Estonia', 'AR to Latvia', 'AR to Lithuania', 'FI to Belgium', 'FI to Netherlands', 'FI to Poland', 'FI to United Kingdom', 'MK to Australia', 'MK to Canada', 'MK to Czech Republic', 'MK to Slovenia', 'MK to United Kingdom', 'MK to United States', 'CA to Indonesia', 'MX to Luxembourg', 'CA to Bulgaria', 'CA to Germany', 'CA to Greece', 'TH to Czech Republic', 'TH to Malta', 'TH to Israel', 'TH to Poland', 'TH to Slovenia', 'FR to Bermuda', 'FR to Brunei Darussalam', 'FI to Hong Kong', 'FI to Luxembourg', 'FI to Slovakia', 'AM to Denmark', 'AM to Finland', 'AM to Norway', 'AM to Singapore', 'AM to Sweden', 'DE to Japan', 'DE to Russian Federation', 'DE to Malta', 'JP to Brunei Darussalam', 'JP to Bulgaria', 'JP to Cayman Islands', 'JP to Cyprus', 'JP to Czech Republic', 'JP to Estonia', 'JP to Greece', 'JP to Hungary', 'JP to Israel', 'JP to Japan', 'JP to Lithuania', 'JP to Malta', 'JP to Mozambique', 'JP to Netherlands', 'JP to Poland', 'JP to Portugal', 'JP to Russian Federation', 'JP to Slovakia', 'JP to Slovenia', 'JP to Turkey', 'JP to Ukraine', 'GB to Bolivia, Plurinational State of', 'CH to Hungary', 'RO to Canada', 'RO to Czech Republic', 'RO to United States', 'IT to Bermuda', 'IT to Cayman Islands', 'IT to Malta', 'FI to Germany', 'FI to Norway', 'FI to Sri Lanka', 'FI to Sweden', 'FI to Turkey', 'PL to Cyprus', 'SE to Turkey', 'DE to Turkey', 'FI to Czech Republic', 'FI to Denmark', 'HU to Denmark', 'HU to Germany', 'HU to Italy', 'HU to Norway', 'HU to Slovakia', 'HU to Sweden', 'FI to Austria', 'FI to Hungary', 'FI to Ireland', 'EE to Belgium', 'EE to Canada', 'EE to Cayman Islands', 'EE to Cyprus', 'EE to Czech Republic', 'EE to Denmark', 'EE to Estonia', 'EE to France', 'EE to Greece', 'EE to Hong Kong', 'EE to Hungary', 'EE to Ireland', 'EE to Israel', 'EE to Italy', 'EE to Lithuania', 'EE to Malaysia', 'EE to Malta', 'EE to Netherlands', 'EE to Norway', 'EE to Poland', 'EE to Slovakia', 'EE to Slovenia', 'EE to Thailand', 'EE to United Kingdom', 'EE to United States', 'FI to Bermuda', 'FI to Bulgaria', 'FI to Cyprus', 'FI to Estonia', 'FI to Greece', 'FI to Latvia', 'FI to Malta', 'FI to Slovenia', 'FI to Trinidad and Tobago', 'FI to Lithuania', 'NO to Sweden', 'LT to Denmark', 'LT to Finland', 'LT to Norway', 'LT to Turkey', 'BG to Belgium', 'BG to Denmark', 'BG to France', 'BG to Italy', 'BG to Netherlands', 'BG to Norway', 'BG to Spain', 'BG to Sweden', 'NZ to Spain', 'IS to Belgium', 'IS to Netherlands', 'IS to Poland', 'DK to Finland', 'DK to Norway', 'DK to Sweden', 'SE to Germany', 'SE to Luxembourg', 'SE to Netherlands', 'PR to Argentina', 'PR to Australia', 'PR to Belgium', 'PR to Bulgaria', 'PR to Canada', 'PR to Chile', 'PR to Colombia', 'PR to Costa Rica', 'PR to Dominican Republic', 'PR to Ecuador', 'PR to France', 'PR to Greece', 'PR to Guatemala', 'PR to Hong Kong', 'PR to Ireland', 'PR to Malaysia', 'PR to Malta', 'PR to Mexico', 'PR to Puerto Rico', 'PR to Spain', 'PR to Switzerland', 'PR to Taiwan, Province of China', 'PR to United Kingdom', 'PR to United States', 'IE to Belgium', 'IE to Luxembourg', 'IE to Switzerland', 'US to Russian Federation', 'TR to Finland', 'TR to Sweden', 'GT to Italy', 'UM to Brazil', 'UM to Mexico', 'CA to Austria', 'CA to Cyprus', 'CA to Czech Republic', 'CA to Ecuador', 'CA to Malaysia', 'CA to Malta', 'CA to Nicaragua', 'CA to Panama', 'CA to Philippines', 'CA to Slovenia', 'CA to Trinidad and Tobago', 'CA to Viet Nam', 'CA to Virgin Islands, British', 'CA to Moldova, Republic of', 'SE to Japan', 'ES to Austria', 'ES to Germany', 'ES to Lithuania', 'ES to Macao', 'NL to Japan', 'GB to Japan', 'TW to Japan', 'GR to Japan', 'TH to Greece', 'TH to Lithuania', 'CA to Lithuania', 'DE to Latvia', 'DE to Moldova, Republic of', 'CH to Namibia', 'RO to Sweden', 'NG to Argentina', 'NG to Austria', 'NG to Brazil', 'NG to Chile', 'NG to Colombia', 'NG to Cyprus', 'NG to Czech Republic', 'NG to Denmark', 'NG to Ecuador', 'NG to Finland', 'NG to France', 'NG to Germany', 'NG to Hungary', 'NG to Italy', 'NG to Japan', 'NG to Luxembourg', 'NG to Malaysia', 'NG to Malta', 'NG to Mexico', 'NG to Norway', 'NG to Philippines', 'NG to Poland', 'NG to Spain', 'NG to Sri Lanka', 'NG to Sweden', 'NG to Switzerland', 'NG to Thailand', 'KR to Ireland', 'KR to United Kingdom', 'KR to Estonia', 'LV to Australia', 'LV to Austria', 'LV to Belgium', 'LV to Canada', 'LV to France', 'LV to Germany', 'LV to Ireland', 'LV to Latvia', 'LV to Malaysia', 'LV to Norway', 'LV to Spain', 'LV to United States', 'IT to Botswana', 'IT to Brunei Darussalam', 'IT to Slovenia', 'IT to Brazil', 'ID to Luxembourg', 'MX to Denmark', 'MX to Finland', 'MX to Norway', 'MX to Sweden', 'GB to Armenia', 'SE to Austria', 'SE to Belarus', 'SE to Bermuda', 'SE to Bulgaria', 'SE to Cyprus', 'SE to Fiji', 'SE to Greece', 'SE to Greenland', 'SE to India', 'SE to Latvia', 'SE to Poland', 'SE to Russian Federation', 'AU to Singapore', 'CA to Bahamas', 'CA to Bolivia, Plurinational State of', 'CA to Sri Lanka', 'IR to France', 'TT to Australia', 'TT to Canada', 'TT to Czech Republic', 'TT to Estonia', 'TT to Greece', 'TT to Hungary', 'TT to Ireland', 'TT to Latvia', 'TT to Malaysia', 'TT to Malta', 'TT to Poland', 'TT to United Kingdom', 'IS to Denmark', 'IS to Finland', 'IS to Norway', 'IS to Sweden', 'GR to Austria', 'GR to Belgium', 'GR to Canada', 'GR to France', 'GR to Germany', 'GR to Greece', 'GR to Ireland', 'GR to Israel', 'GR to Macao', 'GR to Slovenia', 'GR to Switzerland', 'GR to United Kingdom', 'GR to United States', 'BG to Hong Kong', 'BG to Taiwan, Province of China', 'NZ to Italy', 'TH to Denmark', 'TH to Finland', 'TH to Norway', 'TH to Spain', 'TH to Sweden', 'CL to Denmark', 'CL to Norway', 'CL to Sweden', 'VE to Denmark', 'VE to Finland', 'VE to Norway', 'VE to Sweden', 'MY to Spain', 'EE to Spain', 'IT to Virgin Islands, British', 'BE to Russian Federation', 'HR to Spain', 'IR to Belgium', 'IR to Luxembourg', 'IR to Switzerland', 'AR to Hungary', 'AR to Malta', 'AR to Mauritius', 'AR to Philippines', 'AR to Slovakia', 'AR to Slovenia', 'AR to Thailand', 'AR to Trinidad and Tobago', 'AR to Viet Nam', 'US to Trinidad and Tobago', 'SE to Malta', 'US to Belarus', 'DK to Poland', 'CL to Finland', 'GB to Malta', 'GB to Mauritius', 'KZ to Ireland', 'KZ to Netherlands', 'KZ to Spain', 'KZ to United Kingdom', 'GR to Finland', 'GR to Italy', 'GR to Luxembourg', 'GR to Netherlands', 'GR to Norway', 'GR to Spain', 'GR to Sweden', 'AT to Portugal', 'MA to Denmark', 'MA to Finland', 'MA to Norway', 'FI to Portugal', 'ES to Netherlands', 'RO to Austria', 'RO to Belgium', 'RO to Denmark', 'RO to Germany', 'RO to Luxembourg', 'RO to Netherlands', 'RO to Spain', 'GE to Czech Republic', 'GE to Denmark', 'GE to Finland', 'GE to Poland', 'GE to Slovakia', 'IS to Luxembourg', 'AU to Brazil', 'NZ to Belgium', 'NZ to Luxembourg', 'RU to Cyprus', 'RU to Estonia', 'RU to Latvia', 'BE to Trinidad and Tobago', \"FR to Lao People's Democratic Republic\", 'FR to Trinidad and Tobago', 'AU to Bahamas', 'AU to Bulgaria', 'AU to Croatia', 'AU to Cyprus', 'AU to Germany', 'AU to Poland', 'AU to Portugal', 'AU to Romania', 'AU to Slovenia', 'AU to Tunisia', 'ES to Japan', 'EC to Belgium', 'EC to France', 'EC to Luxembourg', 'EC to Switzerland', 'AT to Singapore', 'TR to Denmark', 'TR to Norway', 'IN to Australia', 'IN to Canada', 'IN to Estonia', 'IN to Greece', 'IN to Malaysia', 'IN to Malta', 'IN to Mozambique', 'IN to Slovakia', 'IN to Slovenia', 'IN to Taiwan, Province of China', 'ID to Italy', 'IE to Malta', 'NZ to Greece', 'NZ to Hungary', 'NZ to Slovakia', 'NZ to Slovenia', 'CZ to Brazil', 'CZ to Israel', 'CZ to Italy', 'CZ to Japan', 'NZ to Argentina', 'NZ to Chile', 'NZ to Colombia', 'NZ to Costa Rica', 'NZ to Dominican Republic', 'NZ to Ecuador', 'NZ to Guatemala', 'NZ to Honduras', 'NZ to Mexico', 'NZ to Panama', 'NZ to Peru', 'KR to Norway', 'CD to Belgium', 'CD to Canada', 'CD to France', 'CD to Malaysia', 'CD to Switzerland', 'CD to Thailand', 'CD to United States', 'CD to Viet Nam', 'BE to Bulgaria', 'BE to Cyprus', 'SE to Lithuania', 'ZA to Indonesia', 'ZA to Singapore', 'EE to Argentina', 'EE to Australia', 'EE to Austria', 'EE to Brazil', 'EE to Chile', 'EE to Colombia', 'EE to Ecuador', 'EE to El Salvador', 'EE to Finland', 'EE to Germany', 'EE to Guatemala', 'EE to Japan', 'EE to Luxembourg', 'EE to Mexico', 'EE to New Zealand', 'EE to Peru', 'EE to Portugal', 'EE to Russian Federation', 'EE to Sweden', 'EE to Switzerland', 'EE to Taiwan, Province of China', 'CO to Italy', 'ET to Mexico', 'ET to Spain', 'BR to Sweden', 'BE to Portugal', 'FR to Cape Verde', 'FR to Mongolia', 'FR to Cambodia', 'TT to Trinidad and Tobago', 'TT to United States', 'CL to Belgium', 'CL to Cyprus', 'CL to Czech Republic', 'CL to Dominican Republic', 'CL to Estonia', 'CL to Fiji', 'CL to France', 'CL to Greece', 'CL to Hong Kong', 'CL to Hungary', 'CL to Ireland', 'CL to Israel', 'CL to Latvia', 'CL to Luxembourg', 'CL to Malaysia', 'CL to Malta', 'CL to Mauritius', 'CL to Philippines', 'CL to Poland', 'CL to Slovakia', 'CL to Slovenia', 'CL to Sri Lanka', 'CL to Switzerland', 'CL to Taiwan, Province of China', 'CL to Thailand', 'CL to Trinidad and Tobago', 'CL to United Kingdom', 'CL to Viet Nam', 'SE to Slovenia', 'AU to Viet Nam', 'PR to Austria', 'PR to Botswana', 'PR to Brazil', 'PR to Denmark', 'PR to El Salvador', 'PR to Finland', 'PR to Germany', 'PR to Honduras', 'PR to Hungary', 'PR to Italy', 'PR to Japan', 'PR to Luxembourg', 'PR to Netherlands', 'PR to New Zealand', 'PR to Norway', 'PR to Portugal', 'PR to Russian Federation', 'PR to Saudi Arabia', 'PR to Sweden', 'PR to Thailand', 'PR to United Arab Emirates', 'US to Lebanon', 'US to Myanmar', 'IR to Finland', 'RO to Finland', 'RO to Norway', 'IN to Austria', 'IN to Germany', 'IN to Spain', 'AF to France', 'AF to Greece', 'AF to United Kingdom', 'AE to Hong Kong', 'AE to Malaysia', 'AE to United Kingdom', 'AE to United States', 'NO to Argentina', 'NO to Armenia', 'NO to Australia', 'NO to Brazil', 'NO to Chile', 'NO to Colombia', 'NO to Czech Republic', 'NO to Dominican Republic', 'NO to Ecuador', 'NO to Hong Kong', 'NO to Malaysia', 'NO to Mexico', 'NO to Peru', 'NO to Slovakia', 'NO to Taiwan, Province of China', 'PE to Malaysia', 'PE to Philippines', 'PE to United Kingdom', 'PE to Viet Nam', 'PL to Greece', 'PL to Malta', 'TH to Latvia', 'NL to Costa Rica', 'NL to Nicaragua', 'HK to Argentina', 'HK to Dominican Republic', 'HK to Ecuador', 'HK to El Salvador', 'HK to Guatemala', 'HK to Honduras', 'HK to Panama', 'HK to Paraguay', 'CN to Guatemala', 'CN to Indonesia', 'CN to Paraguay', 'HR to Brazil', 'HR to Colombia', 'HR to Costa Rica', 'HR to Czech Republic', 'HR to Denmark', 'HR to Dominican Republic', 'HR to Ecuador', 'HR to Guatemala', 'HR to Ireland', 'HR to Mexico', 'HR to Norway', 'HR to Peru', 'HR to Sweden', 'HR to United Kingdom', 'GR to Hong Kong', 'BG to Malaysia', 'IE to Japan', 'IE to Latvia', 'IE to Netherlands', 'IE to Poland', 'IE to Portugal', 'IS to Estonia', 'IS to Italy', 'IS to Latvia', 'IS to Lithuania', 'RS to Argentina', 'RS to Austria', 'RS to Bolivia, Plurinational State of', 'RS to Brazil', 'RS to Colombia', 'RS to Costa Rica', 'RS to Estonia', 'RS to Germany', 'RS to Ireland', 'RS to Mexico', 'RS to United Kingdom', 'CN to Bolivia, Plurinational State of', 'CL to Indonesia', 'IE to Indonesia', 'KR to Australia', 'KR to Canada', 'KR to Greece', 'KR to Hong Kong', 'KR to Hungary', 'KR to Israel', 'KR to Lithuania', 'KR to Malaysia', 'KR to Sri Lanka', 'KR to Taiwan, Province of China', 'KR to Thailand', 'KR to United States', 'KR to Viet Nam', 'CL to Canada', 'CL to United States', 'TH to Cyprus', 'UA to Spain', 'CA to Portugal', 'CA to Russian Federation', 'CH to Bolivia, Plurinational State of', 'CH to Brazil', 'CH to Denmark', 'CH to El Salvador', 'CH to Finland', 'CH to Japan', 'CH to Norway', 'CH to Sweden', 'ID to Finland', 'ID to Norway', 'ID to Sweden', 'RU to Bulgaria', 'RU to Czech Republic', 'RU to Greece', 'RU to Hungary', 'RU to Lithuania', 'RU to Philippines', 'AE to Denmark', 'AE to Finland', 'AE to Norway', 'AE to Sweden', 'UA to Italy', 'HU to Singapore', 'GR to Australia', 'GR to Belarus', 'GR to Cyprus', 'GR to Czech Republic', 'GR to Estonia', 'GR to Hungary', 'GR to Malaysia', 'GR to Philippines', 'GR to Poland', 'GR to Slovakia', 'BA to Spain', 'GR to Brazil', 'CY to Sweden', 'DK to Austria', 'DK to Germany', 'CH to Singapore', 'TN to Denmark', 'TN to Finland', 'TN to Norway', 'TN to Sweden', 'LU to Italy', 'LU to Spain', 'EE to Bolivia, Plurinational State of', 'EE to Costa Rica', 'EE to Dominican Republic', 'EE to Panama', 'EE to Paraguay', 'CA to Botswana', 'NO to Bulgaria', 'NO to Canada', 'NO to Estonia', 'NO to Hungary', 'NO to Latvia', 'NO to Philippines', 'NO to United States', 'UA to Argentina', 'UA to Brazil', 'UA to Chile', 'UA to Colombia', 'UA to Costa Rica', 'UA to Dominican Republic', 'UA to Ecuador', 'UA to El Salvador', 'UA to Guatemala', 'UA to Honduras', 'UA to Mexico', 'UA to Panama', 'UA to Paraguay', 'UA to Peru', 'EE to Honduras', 'ZA to Austria', 'ZA to Germany', 'CA to Mozambique', 'RS to Denmark', 'RS to Finland', 'RS to Norway', 'RS to Sweden', 'AR to Bulgaria', 'AR to Sri Lanka', 'SK to Spain', 'IE to Austria', 'IE to Czech Republic', 'IE to Germany', 'CH to Honduras', 'AF to Denmark', 'AF to Finland', 'AF to Norway', 'AF to Sweden', 'PT to Canada', 'PT to Germany', 'PT to Ireland', 'PT to Malta', 'PT to United Kingdom', 'PT to United States', 'IS to Argentina', 'IS to Bolivia, Plurinational State of', 'IS to Brazil', 'IS to Chile', 'IS to Colombia', 'IS to Costa Rica', 'IS to Dominican Republic', 'IS to Ecuador', 'IS to El Salvador', 'IS to Guatemala', 'IS to Honduras', 'IS to Mexico', 'IS to Nicaragua', 'IS to Panama', 'IS to Paraguay', 'IS to Peru', 'AU to Argentina', 'AU to Bolivia, Plurinational State of', 'AU to Chile', 'AU to Colombia', 'AU to Costa Rica', 'AU to Dominican Republic', 'AU to Ecuador', 'AU to El Salvador', 'AU to Guatemala', 'AU to Honduras', 'AU to Mexico', 'AU to Nicaragua', 'AU to Panama', 'AU to Paraguay', 'AU to Peru', 'MC to Denmark', 'MC to Finland', 'MC to Norway', 'MC to Sweden', 'CA to Cambodia', 'CA to Bermuda', 'CA to Namibia', 'BG to Portugal', 'AO to Belgium', 'AO to Canada', 'AO to Czech Republic', 'AO to France', 'AO to Ireland', 'AO to Luxembourg', 'AO to Switzerland', 'AO to United Kingdom', 'AO to United States', 'NE to France', 'NE to Luxembourg', 'NE to Switzerland', 'MX to Malaysia', 'MX to Thailand', 'LT to Belgium', 'VN to Denmark', 'VN to Finland', 'VN to Norway', 'VN to Sweden', 'GE to Spain', 'NL to Belarus', 'NL to Bulgaria', 'NL to Cape Verde', 'NL to Malta', 'RO to Hong Kong', 'RO to Malaysia', 'RO to Philippines', 'KR to Philippines', 'IN to Singapore', 'SG to Canada', 'SG to Czech Republic', 'SG to Germany', 'SG to Italy', 'SG to United Kingdom', 'SG to United States', 'SG to Viet Nam', 'SG to Japan', \"DE to Lao People's Democratic Republic\", 'DO to United States', 'IT to Portugal', 'MX to Austria', 'MX to Germany', 'CL to Lithuania', 'CA to Brunei Darussalam', 'BE to Latvia', 'SK to Belgium', 'SK to Brazil', 'SK to Canada', 'SK to Chile', 'SK to Colombia', 'SK to Costa Rica', 'SK to Guatemala', 'SK to Italy', 'SK to Mexico', 'SK to Peru', 'LV to Finland', 'LV to Japan', 'LV to Luxembourg', 'LV to Netherlands', 'LV to United Kingdom', 'US to Moldova, Republic of', 'CU to Spain', 'LB to Italy', 'LB to Spain', 'IE to Argentina', 'IE to Bolivia, Plurinational State of', 'IE to Brazil', 'IE to Chile', 'IE to Colombia', 'IE to Costa Rica', 'IE to Dominican Republic', 'IE to Ecuador', 'IE to Guatemala', 'IE to Honduras', 'IE to Mexico', 'IE to Nicaragua', 'IE to Panama', 'IE to Paraguay', 'IE to Peru', 'SK to Argentina', 'SK to Ecuador', 'SK to Luxembourg', 'SK to Malta', 'SK to Netherlands', 'CZ to Guatemala', 'CZ to Netherlands', 'CZ to Norway', 'IT to Moldova, Republic of', 'DE to Trinidad and Tobago', 'ZM to Denmark', 'ZM to Finland', 'ZM to Norway', 'ZM to Sweden', 'SA to Denmark', 'SA to Finland', 'SA to Norway', 'SA to Sweden', 'NO to Greece', 'TR to Cyprus', 'TR to Estonia', 'TR to Hungary', 'TR to Latvia', 'TR to Philippines', 'TR to Slovakia', 'DE to Mauritius', 'CH to Bermuda', 'IT to Japan', 'MY to Brazil', 'DK to Chile', 'DK to Portugal', 'FI to Japan', 'FI to Russian Federation', 'IN to Ireland', 'IN to United Kingdom', 'IN to United States', 'PE to Austria', 'PE to Germany', 'BE to Mauritius', 'FR to Uganda', 'FR to Cayman Islands', 'PY to Italy', 'PY to Spain', 'UA to Canada', 'UA to Slovakia', 'UA to United Kingdom', 'UA to United States', 'GB to Botswana', 'GB to Namibia', 'US to Cambodia', 'US to Uganda', 'PE to Spain', 'AR to Austria', 'AR to Germany', 'NO to Lithuania', 'NO to Portugal', 'NL to Bolivia, Plurinational State of', 'TH to Germany', 'IL to Brazil', 'PY to Denmark', 'PY to Finland', 'PY to Norway', 'PY to Sweden', 'CO to Finland', 'CO to Sweden', 'LT to Austria', 'LT to Belarus', 'LT to Canada', 'LT to Chile', 'LT to Colombia', 'LT to Costa Rica', 'LT to Czech Republic', 'LT to Germany', 'LT to Honduras', 'LT to Mexico', 'LT to Panama', 'LT to Peru', 'LT to Philippines', 'LT to Poland', 'LT to United States', 'MK to Finland', 'MK to Norway', 'MK to Sweden', 'EC to Argentina', 'EC to Belarus', 'EC to Chile', 'EC to Colombia', 'EC to Costa Rica', 'EC to Cyprus', 'EC to Czech Republic', 'EC to Dominican Republic', 'EC to Ecuador', 'EC to Guatemala', 'EC to Ireland', 'EC to Israel', 'EC to Mexico', 'EC to Panama', 'EC to Peru', 'EC to Philippines', 'EC to Poland', 'EC to Slovakia', 'EC to Spain', 'EC to United Kingdom', 'EC to United States', 'ER to Spain']\n",
      "________\n",
      "Number of platforms - or source_country:\n",
      "2556\n"
     ]
    }
   ],
   "source": [
    "print(origin_to_market)\n",
    "print('________')\n",
    "print('Number of platforms - or source_country:')\n",
    "print(len(origin_to_market))"
   ]
  },
  {
   "cell_type": "code",
   "execution_count": 107,
   "metadata": {},
   "outputs": [
    {
     "data": {
      "text/plain": [
       "2556"
      ]
     },
     "execution_count": 107,
     "metadata": {},
     "output_type": "execute_result"
    }
   ],
   "source": [
    "len(df.origin_to_market.unique())"
   ]
  },
  {
   "cell_type": "markdown",
   "metadata": {},
   "source": [
    "Given the large number of long-tail otm, let's limit our otm to the top 100 otm in terms of numbers of transactions. This will help unbiasing further metrics."
   ]
  },
  {
   "cell_type": "markdown",
   "metadata": {},
   "source": [
    "Take a look at this peculiar, yet beautiful tail."
   ]
  },
  {
   "cell_type": "code",
   "execution_count": 165,
   "metadata": {
    "collapsed": true,
    "jupyter": {
     "outputs_hidden": true
    }
   },
   "outputs": [
    {
     "data": {
      "text/plain": [
       "PR to Thailand                           1\n",
       "PR to Luxembourg                         1\n",
       "BR to Latvia                             1\n",
       "BR to Macao                              1\n",
       "LU to Mauritius                          1\n",
       "PT to Malta                              1\n",
       "LV to Latvia                             1\n",
       "GR to Philippines                        1\n",
       "NG to Greece                             1\n",
       "GR to Poland                             1\n",
       "SK to Argentina                          1\n",
       "GB to Cambodia                           1\n",
       "ES to Azerbaijan                         1\n",
       "AR to Sri Lanka                          1\n",
       "PR to Portugal                           1\n",
       "GR to Slovenia                           1\n",
       "IS to Bolivia, Plurinational State of    1\n",
       "TT to Australia                          1\n",
       "CH to Bermuda                            1\n",
       "IN to Mozambique                         1\n",
       "HU to Switzerland                        1\n",
       "PL to Greece                             1\n",
       "LT to Peru                               1\n",
       "SG to Sri Lanka                          1\n",
       "IE to Viet Nam                           1\n",
       "IT to Moldova, Republic of               1\n",
       "JO to Ireland                            1\n",
       "IS to Thailand                           1\n",
       "EC to Ireland                            1\n",
       "EC to Dominican Republic                 1\n",
       "Name: origin_to_market, dtype: int64"
      ]
     },
     "execution_count": 165,
     "metadata": {},
     "output_type": "execute_result"
    }
   ],
   "source": [
    "df['origin_to_market'].value_counts().tail(30)"
   ]
  },
  {
   "cell_type": "code",
   "execution_count": 160,
   "metadata": {},
   "outputs": [],
   "source": [
    "reduced_otm = df['origin_to_market'].value_counts().head(100)\n",
    "reduced_otm = reduced_otm.index.values.tolist()"
   ]
  },
  {
   "cell_type": "markdown",
   "metadata": {},
   "source": [
    "### Constructing four portfolio categories\n",
    "- s_portfolio : movie portfolio by Source\n",
    "- c_portfolio : movie portfolio by Country_of_market\n",
    "- sc_portfolio : movie portfolio by source_country\n",
    "- otm_portfolio : movie portfolio by origin_to_market "
   ]
  },
  {
   "cell_type": "code",
   "execution_count": 44,
   "metadata": {},
   "outputs": [],
   "source": [
    "s_portfolio = df.groupby(['Source'])['Mama_id'].unique()"
   ]
  },
  {
   "cell_type": "code",
   "execution_count": 52,
   "metadata": {},
   "outputs": [
    {
     "name": "stdout",
     "output_type": "stream",
     "text": [
      "Source\n",
      "amazon         [18, 111, 132, 196, 398, 402, 404, 405, 407, 4...\n",
      "arte                                               [1132, 12374]\n",
      "canal vod                            [1799, 35804, 35819, 37272]\n",
      "curzon                                                   [33127]\n",
      "eurocinema                                          [1259, 2544]\n",
      "filmin         [1001, 1173, 1638, 32242, 32243, 32267, 32270,...\n",
      "flimmit               [32268, 32270, 32271, 32361, 32521, 34286]\n",
      "google         [3, 7, 10, 15, 16, 17, 18, 19, 20, 21, 22, 24,...\n",
      "hoopla         [453, 481, 483, 484, 487, 534, 535, 538, 539, ...\n",
      "huawei                                            [32331, 38178]\n",
      "indemand       [481, 483, 484, 535, 538, 539, 543, 545, 550, ...\n",
      "itunes         [1, 3, 5, 7, 8, 9, 10, 11, 12, 14, 15, 16, 17,...\n",
      "kanopy         [481, 483, 538, 539, 544, 557, 560, 579, 1259,...\n",
      "klic           [32934, 37721, 38494, 38496, 38497, 41635, 432...\n",
      "microsoft      [86, 277, 435, 441, 445, 456, 660, 748, 759, 9...\n",
      "movistar                            [32094, 32154, 35423, 35804]\n",
      "mytf1          [1551, 1588, 1799, 2253, 2364, 32065, 32094, 3...\n",
      "orange         [958, 1148, 31684, 31715, 32153, 32356, 32547,...\n",
      "pantaflix      [1173, 32458, 33231, 35395, 35838, 37194, 3719...\n",
      "proximus       [33220, 35643, 35647, 35804, 35900, 38362, 384...\n",
      "rakuten        [86, 36091, 37618, 37704, 37804, 37954, 37961,...\n",
      "sky            [32532, 33134, 35437, 35458, 35599, 35647, 356...\n",
      "sony           [11, 12, 14, 16, 18, 19, 20, 21, 22, 27, 31, 3...\n",
      "teleclub       [660, 35557, 35564, 35565, 35588, 35589, 35629...\n",
      "tv5                                  [1259, 35803, 35838, 38179]\n",
      "universcine                         [35804, 38362, 38442, 41634]\n",
      "universciné    [32241, 32242, 32265, 32267, 32268, 32269, 322...\n",
      "vimeo          [481, 483, 534, 535, 538, 539, 541, 543, 545, ...\n",
      "vod factory    [1799, 2475, 32406, 33098, 33099, 33216, 33220...\n",
      "vubiquity      [453, 484, 487, 536, 537, 538, 542, 545, 546, ...\n",
      "vudu           [42, 100, 107, 108, 132, 196, 374, 404, 405, 4...\n",
      "Name: Mama_id, dtype: object\n"
     ]
    }
   ],
   "source": [
    "print(s_portfolio)"
   ]
  },
  {
   "cell_type": "code",
   "execution_count": 53,
   "metadata": {},
   "outputs": [],
   "source": [
    "c_portfolio = df.groupby(['Country_of_market'])['Mama_id'].unique()"
   ]
  },
  {
   "cell_type": "code",
   "execution_count": 54,
   "metadata": {},
   "outputs": [
    {
     "name": "stdout",
     "output_type": "stream",
     "text": [
      "Country_of_market\n",
      "Argentina                            [7, 9, 35, 41, 42, 99, 107, 108, 196, 369, 383...\n",
      "Armenia                              [487, 1174, 1551, 1701, 2024, 2526, 32648, 361...\n",
      "Australia                            [7, 10, 35, 36, 41, 42, 70, 107, 109, 111, 255...\n",
      "Austria                              [35, 36, 70, 100, 196, 385, 388, 396, 400, 402...\n",
      "Azerbaijan                           [1287, 1288, 1459, 1740, 1741, 1742, 1810, 196...\n",
      "                                                           ...                        \n",
      "United States                        [7, 10, 18, 35, 36, 41, 42, 70, 100, 107, 109,...\n",
      "Venezuela, Bolivarian Republic of    [35, 99, 107, 108, 369, 453, 487, 575, 762, 97...\n",
      "Viet Nam                             [7, 35, 36, 39, 75, 76, 77, 78, 79, 107, 268, ...\n",
      "Virgin Islands, British                                           [2438, 32445, 33172]\n",
      "Zimbabwe                                                           [1551, 2094, 31706]\n",
      "Name: Mama_id, Length: 96, dtype: object\n"
     ]
    }
   ],
   "source": [
    "print(c_portfolio)"
   ]
  },
  {
   "cell_type": "code",
   "execution_count": 28,
   "metadata": {},
   "outputs": [],
   "source": [
    "sc_portfolio = df.groupby(['source_country'])['Mama_id'].unique()"
   ]
  },
  {
   "cell_type": "code",
   "execution_count": 29,
   "metadata": {},
   "outputs": [
    {
     "name": "stdout",
     "output_type": "stream",
     "text": [
      "source_country\n",
      "amazon Germany             [196, 453, 456, 565, 660, 818, 997, 1132, 1173...\n",
      "amazon Japan               [1810, 1859, 2024, 2494, 32140, 32154, 32445, ...\n",
      "amazon United Kingdom      [18, 111, 453, 461, 484, 487, 494, 534, 535, 5...\n",
      "amazon United States       [18, 111, 132, 196, 398, 402, 404, 405, 407, 4...\n",
      "arte France                                                    [1132, 12374]\n",
      "                                                 ...                        \n",
      "vimeo United States        [481, 483, 534, 535, 538, 539, 543, 545, 557, ...\n",
      "vod factory France         [1799, 2475, 32406, 33098, 33099, 33216, 33220...\n",
      "vubiquity United States    [453, 484, 487, 536, 537, 538, 542, 545, 546, ...\n",
      "vudu Mexico                [107, 108, 374, 487, 762, 979, 980, 1189, 1209...\n",
      "vudu United States         [42, 100, 107, 132, 196, 404, 405, 407, 453, 4...\n",
      "Name: Mama_id, Length: 260, dtype: object\n"
     ]
    }
   ],
   "source": [
    "print(sc_portfolio)"
   ]
  },
  {
   "cell_type": "code",
   "execution_count": 161,
   "metadata": {
    "collapsed": true,
    "jupyter": {
     "outputs_hidden": true
    }
   },
   "outputs": [
    {
     "data": {
      "text/plain": [
       "['US to Italy',\n",
       " 'FR to United States',\n",
       " 'US to France',\n",
       " 'US to Norway',\n",
       " 'US to Sweden',\n",
       " 'FR to Italy',\n",
       " 'US to Spain',\n",
       " 'FR to France',\n",
       " 'GB to Italy',\n",
       " 'US to Denmark',\n",
       " 'IT to Italy',\n",
       " 'FR to United Kingdom',\n",
       " 'FR to Spain',\n",
       " 'US to Finland',\n",
       " 'US to Switzerland',\n",
       " 'FR to Canada',\n",
       " 'GB to France',\n",
       " 'US to United States',\n",
       " 'JP to France',\n",
       " 'ES to Italy',\n",
       " 'FR to Sweden',\n",
       " 'GB to Spain',\n",
       " 'FR to Norway',\n",
       " 'GB to Sweden',\n",
       " 'US to Germany',\n",
       " 'GB to Norway',\n",
       " 'DE to France',\n",
       " 'ES to Spain',\n",
       " 'DE to Spain',\n",
       " 'US to Brazil',\n",
       " 'FR to Mexico',\n",
       " 'US to Mexico',\n",
       " 'GB to United Kingdom',\n",
       " 'FR to Denmark',\n",
       " 'NO to Norway',\n",
       " 'SE to Sweden',\n",
       " 'JP to Italy',\n",
       " 'CA to Italy',\n",
       " 'DE to Italy',\n",
       " 'ES to France',\n",
       " 'US to Belgium',\n",
       " 'SE to United States',\n",
       " 'GB to Denmark',\n",
       " 'CA to France',\n",
       " 'US to United Kingdom',\n",
       " 'GB to United States',\n",
       " 'FR to Brazil',\n",
       " 'FR to Australia',\n",
       " 'CA to Spain',\n",
       " 'DE to Germany',\n",
       " 'GB to Finland',\n",
       " 'US to Indonesia',\n",
       " 'IL to France',\n",
       " 'FR to Finland',\n",
       " 'AU to Italy',\n",
       " 'FR to Switzerland',\n",
       " 'IT to France',\n",
       " 'IT to Spain',\n",
       " 'BE to Italy',\n",
       " 'DE to United States',\n",
       " 'IT to United States',\n",
       " 'BE to France',\n",
       " 'CN to France',\n",
       " 'BE to United States',\n",
       " 'AU to Spain',\n",
       " 'AU to Sweden',\n",
       " 'DK to France',\n",
       " 'AT to United States',\n",
       " 'AU to Norway',\n",
       " 'FR to Germany',\n",
       " 'DE to Switzerland',\n",
       " 'FR to Belgium',\n",
       " 'FR to Japan',\n",
       " 'BE to Spain',\n",
       " 'CA to United States',\n",
       " 'SE to Italy',\n",
       " 'BE to Germany',\n",
       " 'CH to United States',\n",
       " 'HK to Hong Kong',\n",
       " 'GB to Mexico',\n",
       " 'US to Canada',\n",
       " 'CA to Norway',\n",
       " 'BE to United Kingdom',\n",
       " 'RU to France',\n",
       " 'CH to Switzerland',\n",
       " 'US to Japan',\n",
       " 'AT to Germany',\n",
       " 'CA to Sweden',\n",
       " 'AU to Australia',\n",
       " 'AR to France',\n",
       " 'GB to Brazil',\n",
       " 'BE to Canada',\n",
       " 'AR to Italy',\n",
       " 'DE to Norway',\n",
       " 'DE to Sweden',\n",
       " 'NO to Spain',\n",
       " 'BE to Switzerland',\n",
       " 'ES to Norway',\n",
       " 'AU to France',\n",
       " 'ES to Sweden']"
      ]
     },
     "execution_count": 161,
     "metadata": {},
     "output_type": "execute_result"
    }
   ],
   "source": [
    "reduced_otm"
   ]
  },
  {
   "cell_type": "code",
   "execution_count": 169,
   "metadata": {},
   "outputs": [],
   "source": [
    "df_reduced_otm = df[df.origin_to_market.isin(reduced_otm)]"
   ]
  },
  {
   "cell_type": "code",
   "execution_count": 170,
   "metadata": {},
   "outputs": [
    {
     "data": {
      "text/html": [
       "<div>\n",
       "<style scoped>\n",
       "    .dataframe tbody tr th:only-of-type {\n",
       "        vertical-align: middle;\n",
       "    }\n",
       "\n",
       "    .dataframe tbody tr th {\n",
       "        vertical-align: top;\n",
       "    }\n",
       "\n",
       "    .dataframe thead th {\n",
       "        text-align: right;\n",
       "    }\n",
       "</style>\n",
       "<table border=\"1\" class=\"dataframe\">\n",
       "  <thead>\n",
       "    <tr style=\"text-align: right;\">\n",
       "      <th></th>\n",
       "      <th>Movie_id</th>\n",
       "      <th>Mama_id</th>\n",
       "      <th>Title</th>\n",
       "      <th>Country_of_origin</th>\n",
       "      <th>Country_of_market</th>\n",
       "      <th>Royalties</th>\n",
       "      <th>Date</th>\n",
       "      <th>Source</th>\n",
       "      <th>source_country</th>\n",
       "      <th>origin_to_market</th>\n",
       "    </tr>\n",
       "  </thead>\n",
       "  <tbody>\n",
       "    <tr>\n",
       "      <td>3183</td>\n",
       "      <td>2</td>\n",
       "      <td>1</td>\n",
       "      <td>The Spanish Prisoner</td>\n",
       "      <td>US</td>\n",
       "      <td>France</td>\n",
       "      <td>20.20</td>\n",
       "      <td>2011-08-15</td>\n",
       "      <td>itunes</td>\n",
       "      <td>itunes France</td>\n",
       "      <td>US to France</td>\n",
       "    </tr>\n",
       "    <tr>\n",
       "      <td>3184</td>\n",
       "      <td>2</td>\n",
       "      <td>1</td>\n",
       "      <td>The Spanish Prisoner</td>\n",
       "      <td>US</td>\n",
       "      <td>France</td>\n",
       "      <td>20.20</td>\n",
       "      <td>2011-08-16</td>\n",
       "      <td>itunes</td>\n",
       "      <td>itunes France</td>\n",
       "      <td>US to France</td>\n",
       "    </tr>\n",
       "    <tr>\n",
       "      <td>3185</td>\n",
       "      <td>2</td>\n",
       "      <td>1</td>\n",
       "      <td>The Spanish Prisoner</td>\n",
       "      <td>US</td>\n",
       "      <td>France</td>\n",
       "      <td>12.70</td>\n",
       "      <td>2011-08-17</td>\n",
       "      <td>itunes</td>\n",
       "      <td>itunes France</td>\n",
       "      <td>US to France</td>\n",
       "    </tr>\n",
       "    <tr>\n",
       "      <td>3186</td>\n",
       "      <td>2</td>\n",
       "      <td>1</td>\n",
       "      <td>The Spanish Prisoner</td>\n",
       "      <td>US</td>\n",
       "      <td>France</td>\n",
       "      <td>12.70</td>\n",
       "      <td>2011-08-18</td>\n",
       "      <td>itunes</td>\n",
       "      <td>itunes France</td>\n",
       "      <td>US to France</td>\n",
       "    </tr>\n",
       "    <tr>\n",
       "      <td>3187</td>\n",
       "      <td>2</td>\n",
       "      <td>1</td>\n",
       "      <td>The Spanish Prisoner</td>\n",
       "      <td>US</td>\n",
       "      <td>France</td>\n",
       "      <td>5.20</td>\n",
       "      <td>2011-08-19</td>\n",
       "      <td>itunes</td>\n",
       "      <td>itunes France</td>\n",
       "      <td>US to France</td>\n",
       "    </tr>\n",
       "    <tr>\n",
       "      <td>...</td>\n",
       "      <td>...</td>\n",
       "      <td>...</td>\n",
       "      <td>...</td>\n",
       "      <td>...</td>\n",
       "      <td>...</td>\n",
       "      <td>...</td>\n",
       "      <td>...</td>\n",
       "      <td>...</td>\n",
       "      <td>...</td>\n",
       "      <td>...</td>\n",
       "    </tr>\n",
       "    <tr>\n",
       "      <td>3467214</td>\n",
       "      <td>7192</td>\n",
       "      <td>44114</td>\n",
       "      <td>Mercy Black</td>\n",
       "      <td>US</td>\n",
       "      <td>Sweden</td>\n",
       "      <td>112.44</td>\n",
       "      <td>2020-02-25</td>\n",
       "      <td>google</td>\n",
       "      <td>google Sweden</td>\n",
       "      <td>US to Sweden</td>\n",
       "    </tr>\n",
       "    <tr>\n",
       "      <td>3467215</td>\n",
       "      <td>7192</td>\n",
       "      <td>44114</td>\n",
       "      <td>Mercy Black</td>\n",
       "      <td>US</td>\n",
       "      <td>Sweden</td>\n",
       "      <td>104.28</td>\n",
       "      <td>2020-02-25</td>\n",
       "      <td>itunes</td>\n",
       "      <td>itunes Sweden</td>\n",
       "      <td>US to Sweden</td>\n",
       "    </tr>\n",
       "    <tr>\n",
       "      <td>3467216</td>\n",
       "      <td>7192</td>\n",
       "      <td>44114</td>\n",
       "      <td>Mercy Black</td>\n",
       "      <td>US</td>\n",
       "      <td>Sweden</td>\n",
       "      <td>26.07</td>\n",
       "      <td>2020-02-26</td>\n",
       "      <td>itunes</td>\n",
       "      <td>itunes Sweden</td>\n",
       "      <td>US to Sweden</td>\n",
       "    </tr>\n",
       "    <tr>\n",
       "      <td>3467217</td>\n",
       "      <td>7200</td>\n",
       "      <td>44232</td>\n",
       "      <td>Dolls (2019)</td>\n",
       "      <td>US</td>\n",
       "      <td>Germany</td>\n",
       "      <td>5.58</td>\n",
       "      <td>2020-02-25</td>\n",
       "      <td>itunes</td>\n",
       "      <td>itunes Germany</td>\n",
       "      <td>US to Germany</td>\n",
       "    </tr>\n",
       "    <tr>\n",
       "      <td>3467218</td>\n",
       "      <td>7200</td>\n",
       "      <td>44232</td>\n",
       "      <td>Dolls (2019)</td>\n",
       "      <td>US</td>\n",
       "      <td>Germany</td>\n",
       "      <td>5.58</td>\n",
       "      <td>2020-02-26</td>\n",
       "      <td>itunes</td>\n",
       "      <td>itunes Germany</td>\n",
       "      <td>US to Germany</td>\n",
       "    </tr>\n",
       "  </tbody>\n",
       "</table>\n",
       "<p>2755906 rows × 10 columns</p>\n",
       "</div>"
      ],
      "text/plain": [
       "         Movie_id  Mama_id                 Title Country_of_origin  \\\n",
       "3183            2        1  The Spanish Prisoner                US   \n",
       "3184            2        1  The Spanish Prisoner                US   \n",
       "3185            2        1  The Spanish Prisoner                US   \n",
       "3186            2        1  The Spanish Prisoner                US   \n",
       "3187            2        1  The Spanish Prisoner                US   \n",
       "...           ...      ...                   ...               ...   \n",
       "3467214      7192    44114           Mercy Black                US   \n",
       "3467215      7192    44114           Mercy Black                US   \n",
       "3467216      7192    44114           Mercy Black                US   \n",
       "3467217      7200    44232          Dolls (2019)                US   \n",
       "3467218      7200    44232          Dolls (2019)                US   \n",
       "\n",
       "        Country_of_market  Royalties        Date  Source  source_country  \\\n",
       "3183               France      20.20  2011-08-15  itunes   itunes France   \n",
       "3184               France      20.20  2011-08-16  itunes   itunes France   \n",
       "3185               France      12.70  2011-08-17  itunes   itunes France   \n",
       "3186               France      12.70  2011-08-18  itunes   itunes France   \n",
       "3187               France       5.20  2011-08-19  itunes   itunes France   \n",
       "...                   ...        ...         ...     ...             ...   \n",
       "3467214            Sweden     112.44  2020-02-25  google   google Sweden   \n",
       "3467215            Sweden     104.28  2020-02-25  itunes   itunes Sweden   \n",
       "3467216            Sweden      26.07  2020-02-26  itunes   itunes Sweden   \n",
       "3467217           Germany       5.58  2020-02-25  itunes  itunes Germany   \n",
       "3467218           Germany       5.58  2020-02-26  itunes  itunes Germany   \n",
       "\n",
       "        origin_to_market  \n",
       "3183        US to France  \n",
       "3184        US to France  \n",
       "3185        US to France  \n",
       "3186        US to France  \n",
       "3187        US to France  \n",
       "...                  ...  \n",
       "3467214     US to Sweden  \n",
       "3467215     US to Sweden  \n",
       "3467216     US to Sweden  \n",
       "3467217    US to Germany  \n",
       "3467218    US to Germany  \n",
       "\n",
       "[2755906 rows x 10 columns]"
      ]
     },
     "execution_count": 170,
     "metadata": {},
     "output_type": "execute_result"
    }
   ],
   "source": [
    "df_reduced_otm"
   ]
  },
  {
   "cell_type": "code",
   "execution_count": 172,
   "metadata": {},
   "outputs": [
    {
     "name": "stdout",
     "output_type": "stream",
     "text": [
      "proportion of transactions kept:\n"
     ]
    },
    {
     "data": {
      "text/plain": [
       "0.7961983410427954"
      ]
     },
     "execution_count": 172,
     "metadata": {},
     "output_type": "execute_result"
    }
   ],
   "source": [
    "print('proportion of transactions kept:')\n",
    "len(df_reduced_otm)/len(df)"
   ]
  },
  {
   "cell_type": "markdown",
   "metadata": {},
   "source": [
    "It appears that the top 100 otm account for 80% of the transactions. We then validate the reducing for further metrics. "
   ]
  },
  {
   "cell_type": "code",
   "execution_count": 173,
   "metadata": {},
   "outputs": [],
   "source": [
    "otm_portfolio = df_reduced_otm.groupby(['origin_to_market'])['Mama_id'].unique()"
   ]
  },
  {
   "cell_type": "code",
   "execution_count": 174,
   "metadata": {},
   "outputs": [
    {
     "name": "stdout",
     "output_type": "stream",
     "text": [
      "origin_to_market\n",
      "AR to France            [185, 187, 980, 1465, 1582, 32428, 33171, 3322...\n",
      "AR to Italy                        [773, 1464, 1473, 31840, 32100, 37525]\n",
      "AT to Germany           [100, 402, 456, 637, 652, 659, 660, 667, 668, ...\n",
      "AT to United States     [100, 402, 587, 682, 818, 997, 1132, 1735, 123...\n",
      "AU to Australia         [1990, 1991, 1992, 1993, 1994, 1995, 1996, 199...\n",
      "                                              ...                        \n",
      "US to Spain             [86, 101, 102, 103, 104, 105, 437, 438, 439, 4...\n",
      "US to Sweden            [11, 12, 14, 29, 86, 93, 143, 313, 395, 435, 4...\n",
      "US to Switzerland       [5, 11, 12, 14, 16, 19, 20, 22, 26, 29, 31, 33...\n",
      "US to United Kingdom    [17, 494, 665, 1285, 1290, 1633, 1663, 1664, 1...\n",
      "US to United States     [483, 638, 665, 1285, 1290, 1447, 1633, 1663, ...\n",
      "Name: Mama_id, Length: 100, dtype: object\n"
     ]
    }
   ],
   "source": [
    "print(otm_portfolio)"
   ]
  },
  {
   "cell_type": "markdown",
   "metadata": {},
   "source": [
    "### Counting movie occurences and co-occrences in all four portofolio categories"
   ]
  },
  {
   "cell_type": "code",
   "execution_count": 85,
   "metadata": {},
   "outputs": [],
   "source": [
    "s_count = [y for x in s_portfolio.tolist() for y in x]\n",
    "s_count = pd.DataFrame(s_count)[0].value_counts()"
   ]
  },
  {
   "cell_type": "code",
   "execution_count": 190,
   "metadata": {},
   "outputs": [
    {
     "data": {
      "text/plain": [
       "pandas.core.series.Series"
      ]
     },
     "execution_count": 190,
     "metadata": {},
     "output_type": "execute_result"
    }
   ],
   "source": [
    "type(s_portfolio)"
   ]
  },
  {
   "cell_type": "markdown",
   "metadata": {},
   "source": [
    "#### Compute movie occurence "
   ]
  },
  {
   "cell_type": "code",
   "execution_count": 86,
   "metadata": {},
   "outputs": [],
   "source": [
    "s_support = s_count/len(s_portfolio)"
   ]
  },
  {
   "cell_type": "markdown",
   "metadata": {},
   "source": [
    "#### Compute movies co-occurences"
   ]
  },
  {
   "cell_type": "markdown",
   "metadata": {},
   "source": [
    "#### Two helper functions"
   ]
  },
  {
   "cell_type": "markdown",
   "metadata": {},
   "source": [
    "Get all pairs from list"
   ]
  },
  {
   "cell_type": "code",
   "execution_count": 216,
   "metadata": {},
   "outputs": [],
   "source": [
    "def pair(source):\n",
    "        result = []\n",
    "        for p1 in range(len(source)):\n",
    "                for p2 in range(p1+1,len(source)):\n",
    "                        result.append([source[p1],source[p2]])\n",
    "        return result\n",
    "\n",
    "#pairings = pair(sc_portfolio[2])\n",
    "#print(\"%d pairings\" % len(pairings))\n",
    "\n",
    "for pair in pairings:\n",
    "        print(pair)"
   ]
  },
  {
   "cell_type": "markdown",
   "metadata": {},
   "source": [
    "Get all pairs from a given portfolio"
   ]
  },
  {
   "cell_type": "code",
   "execution_count": 218,
   "metadata": {},
   "outputs": [],
   "source": [
    "def pair_portfolio(portfolio):\n",
    "    \n",
    "    pairs_lists = []\n",
    "\n",
    "    for i in range(0,len(portfolio)):\n",
    "        pairs_lists.append(pair(portfolio[i]))\n",
    "    \n",
    "    return pairs_lists"
   ]
  },
  {
   "cell_type": "markdown",
   "metadata": {},
   "source": [
    "def get_pairs(paired_portfolio):\n",
    "    for pair in paired_portfolio:\n",
    "        return pair"
   ]
  },
  {
   "cell_type": "code",
   "execution_count": 219,
   "metadata": {},
   "outputs": [],
   "source": [
    "s_pairs = pair_portfolio(s_portfolio)"
   ]
  },
  {
   "cell_type": "markdown",
   "metadata": {},
   "source": [
    "Count co-occuring pairs accross a given portfolio category (e.g. get movie pairs counnt across all counrt"
   ]
  },
  {
   "cell_type": "code",
   "execution_count": 95,
   "metadata": {},
   "outputs": [
    {
     "data": {
      "image/png": "[encoded data removed]",
      "text/plain": [
       "<Figure size 1440x504 with 1 Axes>"
      ]
     },
     "metadata": {},
     "output_type": "display_data"
    }
   ],
   "source": [
    "plt.style.use('dark_background')\n",
    "s_support.sort_values(ascending=False).head(500).plot.bar(figsize=(20,7))\n",
    "plt.title('Frequency of occurence across sources', fontsize = 30, fontweight = 20)\n",
    "plt.xlabel('Movies')\n",
    "plt.tick_params(axis='x',which='both',bottom=False,top=False,labelbottom=False)\n",
    "plt.ylabel('Support of association rule')\n",
    "plt.ylim((0, 1))\n",
    "plt.show()"
   ]
  },
  {
   "cell_type": "markdown",
   "metadata": {},
   "source": [
    "Step shape of the long tail suggests that some movies are bundles together and sold to the exact same amount of sources"
   ]
  },
  {
   "cell_type": "code",
   "execution_count": 127,
   "metadata": {},
   "outputs": [
    {
     "data": {
      "text/html": [
       "<div>\n",
       "<style scoped>\n",
       "    .dataframe tbody tr th:only-of-type {\n",
       "        vertical-align: middle;\n",
       "    }\n",
       "\n",
       "    .dataframe tbody tr th {\n",
       "        vertical-align: top;\n",
       "    }\n",
       "\n",
       "    .dataframe thead th {\n",
       "        text-align: right;\n",
       "    }\n",
       "</style>\n",
       "<table border=\"1\" class=\"dataframe\">\n",
       "  <thead>\n",
       "    <tr style=\"text-align: right;\">\n",
       "      <th></th>\n",
       "      <th>Movie_id</th>\n",
       "      <th>Mama_id</th>\n",
       "      <th>Title</th>\n",
       "      <th>Country_of_origin</th>\n",
       "      <th>Country_of_market</th>\n",
       "      <th>Royalties</th>\n",
       "      <th>Date</th>\n",
       "      <th>Source</th>\n",
       "      <th>source_country</th>\n",
       "      <th>origin_to_market</th>\n",
       "    </tr>\n",
       "  </thead>\n",
       "  <tbody>\n",
       "    <tr>\n",
       "      <td>2760952</td>\n",
       "      <td>4639</td>\n",
       "      <td>37211</td>\n",
       "      <td>Nicht mein Tag</td>\n",
       "      <td>DE</td>\n",
       "      <td>Canada</td>\n",
       "      <td>6.98</td>\n",
       "      <td>2017-07-10</td>\n",
       "      <td>itunes</td>\n",
       "      <td>itunes Canada</td>\n",
       "      <td>DE to Canada</td>\n",
       "    </tr>\n",
       "    <tr>\n",
       "      <td>2760953</td>\n",
       "      <td>4639</td>\n",
       "      <td>37211</td>\n",
       "      <td>Nicht mein Tag</td>\n",
       "      <td>DE</td>\n",
       "      <td>Canada</td>\n",
       "      <td>3.49</td>\n",
       "      <td>2017-07-12</td>\n",
       "      <td>itunes</td>\n",
       "      <td>itunes Canada</td>\n",
       "      <td>DE to Canada</td>\n",
       "    </tr>\n",
       "    <tr>\n",
       "      <td>2760954</td>\n",
       "      <td>4639</td>\n",
       "      <td>37211</td>\n",
       "      <td>Nicht mein Tag</td>\n",
       "      <td>DE</td>\n",
       "      <td>Canada</td>\n",
       "      <td>7.68</td>\n",
       "      <td>2017-07-14</td>\n",
       "      <td>itunes</td>\n",
       "      <td>itunes Canada</td>\n",
       "      <td>DE to Canada</td>\n",
       "    </tr>\n",
       "    <tr>\n",
       "      <td>2760955</td>\n",
       "      <td>4639</td>\n",
       "      <td>37211</td>\n",
       "      <td>Nicht mein Tag</td>\n",
       "      <td>DE</td>\n",
       "      <td>Canada</td>\n",
       "      <td>4.19</td>\n",
       "      <td>2017-07-15</td>\n",
       "      <td>itunes</td>\n",
       "      <td>itunes Canada</td>\n",
       "      <td>DE to Canada</td>\n",
       "    </tr>\n",
       "    <tr>\n",
       "      <td>2760956</td>\n",
       "      <td>4639</td>\n",
       "      <td>37211</td>\n",
       "      <td>Nicht mein Tag</td>\n",
       "      <td>DE</td>\n",
       "      <td>Canada</td>\n",
       "      <td>4.19</td>\n",
       "      <td>2017-07-20</td>\n",
       "      <td>itunes</td>\n",
       "      <td>itunes Canada</td>\n",
       "      <td>DE to Canada</td>\n",
       "    </tr>\n",
       "    <tr>\n",
       "      <td>...</td>\n",
       "      <td>...</td>\n",
       "      <td>...</td>\n",
       "      <td>...</td>\n",
       "      <td>...</td>\n",
       "      <td>...</td>\n",
       "      <td>...</td>\n",
       "      <td>...</td>\n",
       "      <td>...</td>\n",
       "      <td>...</td>\n",
       "      <td>...</td>\n",
       "    </tr>\n",
       "    <tr>\n",
       "      <td>2762070</td>\n",
       "      <td>4639</td>\n",
       "      <td>37211</td>\n",
       "      <td>Nicht mein Tag</td>\n",
       "      <td>DE</td>\n",
       "      <td>United States</td>\n",
       "      <td>15.00</td>\n",
       "      <td>2019-12-15</td>\n",
       "      <td>kanopy</td>\n",
       "      <td>kanopy United States</td>\n",
       "      <td>DE to United States</td>\n",
       "    </tr>\n",
       "    <tr>\n",
       "      <td>2762071</td>\n",
       "      <td>4639</td>\n",
       "      <td>37211</td>\n",
       "      <td>Nicht mein Tag</td>\n",
       "      <td>DE</td>\n",
       "      <td>United States</td>\n",
       "      <td>15.00</td>\n",
       "      <td>2019-12-22</td>\n",
       "      <td>kanopy</td>\n",
       "      <td>kanopy United States</td>\n",
       "      <td>DE to United States</td>\n",
       "    </tr>\n",
       "    <tr>\n",
       "      <td>2762072</td>\n",
       "      <td>4639</td>\n",
       "      <td>37211</td>\n",
       "      <td>Nicht mein Tag</td>\n",
       "      <td>DE</td>\n",
       "      <td>United States</td>\n",
       "      <td>3.49</td>\n",
       "      <td>2019-12-24</td>\n",
       "      <td>itunes</td>\n",
       "      <td>itunes United States</td>\n",
       "      <td>DE to United States</td>\n",
       "    </tr>\n",
       "    <tr>\n",
       "      <td>2762073</td>\n",
       "      <td>4639</td>\n",
       "      <td>37211</td>\n",
       "      <td>Nicht mein Tag</td>\n",
       "      <td>DE</td>\n",
       "      <td>United States</td>\n",
       "      <td>1.00</td>\n",
       "      <td>2020-01-04</td>\n",
       "      <td>hoopla</td>\n",
       "      <td>hoopla United States</td>\n",
       "      <td>DE to United States</td>\n",
       "    </tr>\n",
       "    <tr>\n",
       "      <td>2762074</td>\n",
       "      <td>4639</td>\n",
       "      <td>37211</td>\n",
       "      <td>Nicht mein Tag</td>\n",
       "      <td>DE</td>\n",
       "      <td>United States</td>\n",
       "      <td>3.49</td>\n",
       "      <td>2020-01-11</td>\n",
       "      <td>itunes</td>\n",
       "      <td>itunes United States</td>\n",
       "      <td>DE to United States</td>\n",
       "    </tr>\n",
       "  </tbody>\n",
       "</table>\n",
       "<p>1123 rows × 10 columns</p>\n",
       "</div>"
      ],
      "text/plain": [
       "         Movie_id  Mama_id           Title Country_of_origin  \\\n",
       "2760952      4639    37211  Nicht mein Tag                DE   \n",
       "2760953      4639    37211  Nicht mein Tag                DE   \n",
       "2760954      4639    37211  Nicht mein Tag                DE   \n",
       "2760955      4639    37211  Nicht mein Tag                DE   \n",
       "2760956      4639    37211  Nicht mein Tag                DE   \n",
       "...           ...      ...             ...               ...   \n",
       "2762070      4639    37211  Nicht mein Tag                DE   \n",
       "2762071      4639    37211  Nicht mein Tag                DE   \n",
       "2762072      4639    37211  Nicht mein Tag                DE   \n",
       "2762073      4639    37211  Nicht mein Tag                DE   \n",
       "2762074      4639    37211  Nicht mein Tag                DE   \n",
       "\n",
       "        Country_of_market  Royalties        Date  Source  \\\n",
       "2760952            Canada       6.98  2017-07-10  itunes   \n",
       "2760953            Canada       3.49  2017-07-12  itunes   \n",
       "2760954            Canada       7.68  2017-07-14  itunes   \n",
       "2760955            Canada       4.19  2017-07-15  itunes   \n",
       "2760956            Canada       4.19  2017-07-20  itunes   \n",
       "...                   ...        ...         ...     ...   \n",
       "2762070     United States      15.00  2019-12-15  kanopy   \n",
       "2762071     United States      15.00  2019-12-22  kanopy   \n",
       "2762072     United States       3.49  2019-12-24  itunes   \n",
       "2762073     United States       1.00  2020-01-04  hoopla   \n",
       "2762074     United States       3.49  2020-01-11  itunes   \n",
       "\n",
       "               source_country     origin_to_market  \n",
       "2760952         itunes Canada         DE to Canada  \n",
       "2760953         itunes Canada         DE to Canada  \n",
       "2760954         itunes Canada         DE to Canada  \n",
       "2760955         itunes Canada         DE to Canada  \n",
       "2760956         itunes Canada         DE to Canada  \n",
       "...                       ...                  ...  \n",
       "2762070  kanopy United States  DE to United States  \n",
       "2762071  kanopy United States  DE to United States  \n",
       "2762072  itunes United States  DE to United States  \n",
       "2762073  hoopla United States  DE to United States  \n",
       "2762074  itunes United States  DE to United States  \n",
       "\n",
       "[1123 rows x 10 columns]"
      ]
     },
     "execution_count": 127,
     "metadata": {},
     "output_type": "execute_result"
    }
   ],
   "source": [
    "bundle = df[df['Mama_id']==37211]\n",
    "bundle"
   ]
  },
  {
   "cell_type": "code",
   "execution_count": 115,
   "metadata": {},
   "outputs": [
    {
     "data": {
      "text/plain": [
       "38179    0.419355\n",
       "37211    0.419355\n",
       "37220    0.419355\n",
       "35838    0.419355\n",
       "35803    0.387097\n",
       "           ...   \n",
       "2485     0.032258\n",
       "32262    0.032258\n",
       "2534     0.032258\n",
       "2511     0.032258\n",
       "31774    0.032258\n",
       "Name: 0, Length: 6015, dtype: float64"
      ]
     },
     "execution_count": 115,
     "metadata": {},
     "output_type": "execute_result"
    }
   ],
   "source": [
    "s_support"
   ]
  },
  {
   "cell_type": "code",
   "execution_count": 89,
   "metadata": {},
   "outputs": [],
   "source": [
    "c_count = [y for x in c_portfolio.tolist() for y in x]\n",
    "c_count = pd.DataFrame(c_count)[0].value_counts()"
   ]
  },
  {
   "cell_type": "code",
   "execution_count": 90,
   "metadata": {},
   "outputs": [],
   "source": [
    "c_support = c_count/len(c_portfolio)"
   ]
  },
  {
   "cell_type": "code",
   "execution_count": 102,
   "metadata": {},
   "outputs": [
    {
     "data": {
      "image/png": "[encoded data removed]",
      "text/plain": [
       "<Figure size 1440x504 with 1 Axes>"
      ]
     },
     "metadata": {},
     "output_type": "display_data"
    }
   ],
   "source": [
    "plt.style.use('dark_background')\n",
    "c_support.sort_values(ascending=False).head(500).plot.bar(figsize=(20,7))\n",
    "plt.title('Frequency of occurence across countries', fontsize = 30, fontweight = 20)\n",
    "plt.xlabel('Movies')\n",
    "plt.tick_params(axis='x',which='both',bottom=False,top=False,labelbottom=False)\n",
    "plt.ylabel('Support of association rule')\n",
    "plt.ylim((0, 1))\n",
    "plt.show()"
   ]
  },
  {
   "cell_type": "code",
   "execution_count": 92,
   "metadata": {},
   "outputs": [
    {
     "data": {
      "text/plain": [
       "32154    0.614583\n",
       "453      0.572917\n",
       "12374    0.572917\n",
       "1459     0.541667\n",
       "32667    0.541667\n",
       "           ...   \n",
       "153      0.010417\n",
       "38486    0.010417\n",
       "2303     0.010417\n",
       "32331    0.010417\n",
       "1334     0.010417\n",
       "Name: 0, Length: 6015, dtype: float64"
      ]
     },
     "execution_count": 92,
     "metadata": {},
     "output_type": "execute_result"
    }
   ],
   "source": [
    "c_support"
   ]
  },
  {
   "cell_type": "code",
   "execution_count": 82,
   "metadata": {},
   "outputs": [],
   "source": [
    "sc_count = [y for x in sc_portfolio.tolist() for y in x]\n",
    "sc_count = pd.DataFrame(sc_count)[0].value_counts()"
   ]
  },
  {
   "cell_type": "code",
   "execution_count": 83,
   "metadata": {},
   "outputs": [],
   "source": [
    "sc_support = sc_count/len(sc_portfolio)"
   ]
  },
  {
   "cell_type": "code",
   "execution_count": 84,
   "metadata": {},
   "outputs": [
    {
     "data": {
      "text/plain": [
       "32154    0.434615\n",
       "32667    0.334615\n",
       "35711    0.311538\n",
       "35894    0.303846\n",
       "38419    0.303846\n",
       "           ...   \n",
       "38113    0.003846\n",
       "43502    0.003846\n",
       "38049    0.003846\n",
       "2411     0.003846\n",
       "42799    0.003846\n",
       "Name: 0, Length: 6015, dtype: float64"
      ]
     },
     "execution_count": 84,
     "metadata": {},
     "output_type": "execute_result"
    }
   ],
   "source": [
    "sc_support"
   ]
  },
  {
   "cell_type": "code",
   "execution_count": 103,
   "metadata": {},
   "outputs": [
    {
     "data": {
      "image/png": "[encoded data removed]",
      "text/plain": [
       "<Figure size 1440x504 with 1 Axes>"
      ]
     },
     "metadata": {},
     "output_type": "display_data"
    }
   ],
   "source": [
    "plt.style.use('dark_background')\n",
    "sc_support.sort_values(ascending=False).head(500).plot.bar(figsize=(20,7))\n",
    "plt.title('Frequency of occurence across platforms', fontsize = 30, fontweight = 20)\n",
    "plt.xlabel('Movies')\n",
    "plt.tick_params(axis='x',which='both',bottom=False,top=False,labelbottom=False)\n",
    "plt.ylabel('Support of association rule')\n",
    "plt.ylim((0, 1))\n",
    "plt.show()"
   ]
  },
  {
   "cell_type": "code",
   "execution_count": 129,
   "metadata": {},
   "outputs": [
    {
     "data": {
      "text/plain": [
       "32154    59\n",
       "12374    55\n",
       "453      55\n",
       "32667    52\n",
       "1859     52\n",
       "         ..\n",
       "43694     1\n",
       "1748      1\n",
       "37561     1\n",
       "1716      1\n",
       "2031      1\n",
       "Name: 0, Length: 6015, dtype: int64"
      ]
     },
     "execution_count": 129,
     "metadata": {},
     "output_type": "execute_result"
    }
   ],
   "source": [
    "otm_count"
   ]
  },
  {
   "cell_type": "code",
   "execution_count": 176,
   "metadata": {},
   "outputs": [],
   "source": [
    "otm_count = [y for x in otm_portfolio.tolist() for y in x]\n",
    "otm_count = pd.DataFrame(otm_count)[0].value_counts()"
   ]
  },
  {
   "cell_type": "code",
   "execution_count": 177,
   "metadata": {},
   "outputs": [],
   "source": [
    "otm_support = otm_count/len(otm_portfolio)"
   ]
  },
  {
   "cell_type": "code",
   "execution_count": 178,
   "metadata": {},
   "outputs": [
    {
     "data": {
      "image/png": "[encoded data removed]",
      "text/plain": [
       "<Figure size 1440x504 with 1 Axes>"
      ]
     },
     "metadata": {},
     "output_type": "display_data"
    }
   ],
   "source": [
    "plt.style.use('dark_background')\n",
    "otm_support.sort_values(ascending=False).head(500).plot.bar(figsize=(20,7))\n",
    "plt.title('Frequency of occurence across origin-to-market countries', fontsize = 30, fontweight = 20)\n",
    "plt.xlabel('Movies')\n",
    "plt.tick_params(axis='x',which='both',bottom=False,top=False,labelbottom=False)\n",
    "plt.ylabel('Support of association rule')\n",
    "plt.ylim((0, 1))\n",
    "plt.show()"
   ]
  },
  {
   "cell_type": "code",
   "execution_count": 179,
   "metadata": {},
   "outputs": [
    {
     "data": {
      "text/plain": [
       "36348    0.17\n",
       "38410    0.16\n",
       "44060    0.16\n",
       "38404    0.16\n",
       "1810     0.16\n",
       "         ... \n",
       "35485    0.01\n",
       "668      0.01\n",
       "43673    0.01\n",
       "660      0.01\n",
       "44       0.01\n",
       "Name: 0, Length: 4842, dtype: float64"
      ]
     },
     "execution_count": 179,
     "metadata": {},
     "output_type": "execute_result"
    }
   ],
   "source": [
    "otm_support"
   ]
  },
  {
   "cell_type": "code",
   "execution_count": 180,
   "metadata": {},
   "outputs": [
    {
     "data": {
      "text/html": [
       "<div>\n",
       "<style scoped>\n",
       "    .dataframe tbody tr th:only-of-type {\n",
       "        vertical-align: middle;\n",
       "    }\n",
       "\n",
       "    .dataframe tbody tr th {\n",
       "        vertical-align: top;\n",
       "    }\n",
       "\n",
       "    .dataframe thead th {\n",
       "        text-align: right;\n",
       "    }\n",
       "</style>\n",
       "<table border=\"1\" class=\"dataframe\">\n",
       "  <thead>\n",
       "    <tr style=\"text-align: right;\">\n",
       "      <th></th>\n",
       "      <th>Movie_id</th>\n",
       "      <th>Mama_id</th>\n",
       "      <th>Title</th>\n",
       "      <th>Country_of_origin</th>\n",
       "      <th>Country_of_market</th>\n",
       "      <th>Royalties</th>\n",
       "      <th>Date</th>\n",
       "      <th>Source</th>\n",
       "      <th>source_country</th>\n",
       "      <th>origin_to_market</th>\n",
       "    </tr>\n",
       "  </thead>\n",
       "  <tbody>\n",
       "    <tr>\n",
       "      <td>2734127</td>\n",
       "      <td>4569</td>\n",
       "      <td>36348</td>\n",
       "      <td>Je ne suis pas un salaud</td>\n",
       "      <td>FR</td>\n",
       "      <td>Argentina</td>\n",
       "      <td>1.40</td>\n",
       "      <td>2017-01-13</td>\n",
       "      <td>itunes</td>\n",
       "      <td>itunes Argentina</td>\n",
       "      <td>FR to Argentina</td>\n",
       "    </tr>\n",
       "    <tr>\n",
       "      <td>2734128</td>\n",
       "      <td>4569</td>\n",
       "      <td>36348</td>\n",
       "      <td>Je ne suis pas un salaud</td>\n",
       "      <td>FR</td>\n",
       "      <td>Argentina</td>\n",
       "      <td>2.07</td>\n",
       "      <td>2017-01-14</td>\n",
       "      <td>itunes</td>\n",
       "      <td>itunes Argentina</td>\n",
       "      <td>FR to Argentina</td>\n",
       "    </tr>\n",
       "    <tr>\n",
       "      <td>2734129</td>\n",
       "      <td>4569</td>\n",
       "      <td>36348</td>\n",
       "      <td>Je ne suis pas un salaud</td>\n",
       "      <td>FR</td>\n",
       "      <td>Argentina</td>\n",
       "      <td>1.40</td>\n",
       "      <td>2017-01-15</td>\n",
       "      <td>itunes</td>\n",
       "      <td>itunes Argentina</td>\n",
       "      <td>FR to Argentina</td>\n",
       "    </tr>\n",
       "    <tr>\n",
       "      <td>2734130</td>\n",
       "      <td>4569</td>\n",
       "      <td>36348</td>\n",
       "      <td>Je ne suis pas un salaud</td>\n",
       "      <td>FR</td>\n",
       "      <td>Argentina</td>\n",
       "      <td>1.40</td>\n",
       "      <td>2017-01-24</td>\n",
       "      <td>itunes</td>\n",
       "      <td>itunes Argentina</td>\n",
       "      <td>FR to Argentina</td>\n",
       "    </tr>\n",
       "    <tr>\n",
       "      <td>2734131</td>\n",
       "      <td>4569</td>\n",
       "      <td>36348</td>\n",
       "      <td>Je ne suis pas un salaud</td>\n",
       "      <td>FR</td>\n",
       "      <td>Argentina</td>\n",
       "      <td>1.40</td>\n",
       "      <td>2017-01-25</td>\n",
       "      <td>itunes</td>\n",
       "      <td>itunes Argentina</td>\n",
       "      <td>FR to Argentina</td>\n",
       "    </tr>\n",
       "    <tr>\n",
       "      <td>...</td>\n",
       "      <td>...</td>\n",
       "      <td>...</td>\n",
       "      <td>...</td>\n",
       "      <td>...</td>\n",
       "      <td>...</td>\n",
       "      <td>...</td>\n",
       "      <td>...</td>\n",
       "      <td>...</td>\n",
       "      <td>...</td>\n",
       "      <td>...</td>\n",
       "    </tr>\n",
       "    <tr>\n",
       "      <td>2735574</td>\n",
       "      <td>4569</td>\n",
       "      <td>36348</td>\n",
       "      <td>Je ne suis pas un salaud</td>\n",
       "      <td>FR</td>\n",
       "      <td>United States</td>\n",
       "      <td>-5.00</td>\n",
       "      <td>2019-02-11</td>\n",
       "      <td>amazon</td>\n",
       "      <td>amazon United States</td>\n",
       "      <td>FR to United States</td>\n",
       "    </tr>\n",
       "    <tr>\n",
       "      <td>2735575</td>\n",
       "      <td>4569</td>\n",
       "      <td>36348</td>\n",
       "      <td>Je ne suis pas un salaud</td>\n",
       "      <td>FR</td>\n",
       "      <td>United States</td>\n",
       "      <td>2.00</td>\n",
       "      <td>2019-03-19</td>\n",
       "      <td>amazon</td>\n",
       "      <td>amazon United States</td>\n",
       "      <td>FR to United States</td>\n",
       "    </tr>\n",
       "    <tr>\n",
       "      <td>2735576</td>\n",
       "      <td>4569</td>\n",
       "      <td>36348</td>\n",
       "      <td>Je ne suis pas un salaud</td>\n",
       "      <td>FR</td>\n",
       "      <td>United States</td>\n",
       "      <td>1.50</td>\n",
       "      <td>2019-04-14</td>\n",
       "      <td>amazon</td>\n",
       "      <td>amazon United States</td>\n",
       "      <td>FR to United States</td>\n",
       "    </tr>\n",
       "    <tr>\n",
       "      <td>2735577</td>\n",
       "      <td>4569</td>\n",
       "      <td>36348</td>\n",
       "      <td>Je ne suis pas un salaud</td>\n",
       "      <td>FR</td>\n",
       "      <td>United States</td>\n",
       "      <td>2.00</td>\n",
       "      <td>2019-05-03</td>\n",
       "      <td>amazon</td>\n",
       "      <td>amazon United States</td>\n",
       "      <td>FR to United States</td>\n",
       "    </tr>\n",
       "    <tr>\n",
       "      <td>2735578</td>\n",
       "      <td>4569</td>\n",
       "      <td>36348</td>\n",
       "      <td>Je ne suis pas un salaud</td>\n",
       "      <td>FR</td>\n",
       "      <td>Viet Nam</td>\n",
       "      <td>19013.00</td>\n",
       "      <td>2018-01-03</td>\n",
       "      <td>itunes</td>\n",
       "      <td>itunes Viet Nam</td>\n",
       "      <td>FR to Viet Nam</td>\n",
       "    </tr>\n",
       "  </tbody>\n",
       "</table>\n",
       "<p>1452 rows × 10 columns</p>\n",
       "</div>"
      ],
      "text/plain": [
       "         Movie_id  Mama_id                     Title Country_of_origin  \\\n",
       "2734127      4569    36348  Je ne suis pas un salaud                FR   \n",
       "2734128      4569    36348  Je ne suis pas un salaud                FR   \n",
       "2734129      4569    36348  Je ne suis pas un salaud                FR   \n",
       "2734130      4569    36348  Je ne suis pas un salaud                FR   \n",
       "2734131      4569    36348  Je ne suis pas un salaud                FR   \n",
       "...           ...      ...                       ...               ...   \n",
       "2735574      4569    36348  Je ne suis pas un salaud                FR   \n",
       "2735575      4569    36348  Je ne suis pas un salaud                FR   \n",
       "2735576      4569    36348  Je ne suis pas un salaud                FR   \n",
       "2735577      4569    36348  Je ne suis pas un salaud                FR   \n",
       "2735578      4569    36348  Je ne suis pas un salaud                FR   \n",
       "\n",
       "        Country_of_market  Royalties        Date  Source  \\\n",
       "2734127         Argentina       1.40  2017-01-13  itunes   \n",
       "2734128         Argentina       2.07  2017-01-14  itunes   \n",
       "2734129         Argentina       1.40  2017-01-15  itunes   \n",
       "2734130         Argentina       1.40  2017-01-24  itunes   \n",
       "2734131         Argentina       1.40  2017-01-25  itunes   \n",
       "...                   ...        ...         ...     ...   \n",
       "2735574     United States      -5.00  2019-02-11  amazon   \n",
       "2735575     United States       2.00  2019-03-19  amazon   \n",
       "2735576     United States       1.50  2019-04-14  amazon   \n",
       "2735577     United States       2.00  2019-05-03  amazon   \n",
       "2735578          Viet Nam   19013.00  2018-01-03  itunes   \n",
       "\n",
       "               source_country     origin_to_market  \n",
       "2734127      itunes Argentina      FR to Argentina  \n",
       "2734128      itunes Argentina      FR to Argentina  \n",
       "2734129      itunes Argentina      FR to Argentina  \n",
       "2734130      itunes Argentina      FR to Argentina  \n",
       "2734131      itunes Argentina      FR to Argentina  \n",
       "...                       ...                  ...  \n",
       "2735574  amazon United States  FR to United States  \n",
       "2735575  amazon United States  FR to United States  \n",
       "2735576  amazon United States  FR to United States  \n",
       "2735577  amazon United States  FR to United States  \n",
       "2735578       itunes Viet Nam       FR to Viet Nam  \n",
       "\n",
       "[1452 rows x 10 columns]"
      ]
     },
     "execution_count": 180,
     "metadata": {},
     "output_type": "execute_result"
    }
   ],
   "source": [
    "# Sanity check\n",
    "\n",
    "df[df['Mama_id']==36348]"
   ]
  },
  {
   "cell_type": "markdown",
   "metadata": {},
   "source": [
    "The computation of the support is biased for this portfolio category since a movie cannot be from two countries, yet the denominator is still on the top 100 otm portfolios. Needs improvement."
   ]
  },
  {
   "cell_type": "code",
   "execution_count": null,
   "metadata": {},
   "outputs": [],
   "source": []
  },
  {
   "cell_type": "code",
   "execution_count": null,
   "metadata": {},
   "outputs": [],
   "source": []
  },
  {
   "cell_type": "code",
   "execution_count": null,
   "metadata": {},
   "outputs": [],
   "source": []
  },
  {
   "cell_type": "markdown",
   "metadata": {},
   "source": [
    "# Step 2: Constructing tag-based similarity"
   ]
  },
  {
   "cell_type": "markdown",
   "metadata": {},
   "source": [
    "Once we mining the strongest association rules between movies, we need to recommend movies to relevant portfolios."
   ]
  },
  {
   "cell_type": "code",
   "execution_count": 181,
   "metadata": {},
   "outputs": [],
   "source": [
    "tags = pd.read_csv('tags_clean.csv',sep=',')"
   ]
  },
  {
   "cell_type": "code",
   "execution_count": 182,
   "metadata": {},
   "outputs": [],
   "source": [
    "tags = tags.rename(columns={\"id\": \"Mama_id\"})"
   ]
  },
  {
   "cell_type": "code",
   "execution_count": 183,
   "metadata": {},
   "outputs": [],
   "source": [
    "tags = tags.reset_index().set_index('Mama_id')"
   ]
  },
  {
   "cell_type": "code",
   "execution_count": 184,
   "metadata": {},
   "outputs": [],
   "source": [
    "tag_list = tags.columns.values.tolist()"
   ]
  },
  {
   "cell_type": "code",
   "execution_count": 186,
   "metadata": {},
   "outputs": [
    {
     "data": {
      "text/plain": [
       "729"
      ]
     },
     "execution_count": 186,
     "metadata": {},
     "output_type": "execute_result"
    }
   ],
   "source": [
    "len(tag_list)"
   ]
  },
  {
   "cell_type": "code",
   "execution_count": 142,
   "metadata": {},
   "outputs": [
    {
     "data": {
      "text/html": [
       "<div>\n",
       "<style scoped>\n",
       "    .dataframe tbody tr th:only-of-type {\n",
       "        vertical-align: middle;\n",
       "    }\n",
       "\n",
       "    .dataframe tbody tr th {\n",
       "        vertical-align: top;\n",
       "    }\n",
       "\n",
       "    .dataframe thead th {\n",
       "        text-align: right;\n",
       "    }\n",
       "</style>\n",
       "<table border=\"1\" class=\"dataframe\">\n",
       "  <thead>\n",
       "    <tr style=\"text-align: right;\">\n",
       "      <th></th>\n",
       "      <th>Title</th>\n",
       "      <th>Movie_id</th>\n",
       "      <th>Royalties</th>\n",
       "      <th>index_x</th>\n",
       "      <th>installation art_x</th>\n",
       "      <th>superheroes_x</th>\n",
       "      <th>Irish conflicts_x</th>\n",
       "      <th>1990s_x</th>\n",
       "      <th>spies_x</th>\n",
       "      <th>psychological abuse_x</th>\n",
       "      <th>...</th>\n",
       "      <th>frenemies_y</th>\n",
       "      <th>hot pursuits_y</th>\n",
       "      <th>live concerts_y</th>\n",
       "      <th>in the skies_y</th>\n",
       "      <th>zombies_y</th>\n",
       "      <th>climbing_y</th>\n",
       "      <th>American Revolutionary War_y</th>\n",
       "      <th>looking for a parent_y</th>\n",
       "      <th>bars and restaurants_y</th>\n",
       "      <th>Western United States_y</th>\n",
       "    </tr>\n",
       "    <tr>\n",
       "      <th>Mama_id</th>\n",
       "      <th></th>\n",
       "      <th></th>\n",
       "      <th></th>\n",
       "      <th></th>\n",
       "      <th></th>\n",
       "      <th></th>\n",
       "      <th></th>\n",
       "      <th></th>\n",
       "      <th></th>\n",
       "      <th></th>\n",
       "      <th></th>\n",
       "      <th></th>\n",
       "      <th></th>\n",
       "      <th></th>\n",
       "      <th></th>\n",
       "      <th></th>\n",
       "      <th></th>\n",
       "      <th></th>\n",
       "      <th></th>\n",
       "      <th></th>\n",
       "      <th></th>\n",
       "    </tr>\n",
       "  </thead>\n",
       "  <tbody>\n",
       "    <tr>\n",
       "      <td>1</td>\n",
       "      <td>The Spanish Prisoner</td>\n",
       "      <td>1004</td>\n",
       "      <td>2183.00</td>\n",
       "      <td>0.0</td>\n",
       "      <td>0.0</td>\n",
       "      <td>0.0</td>\n",
       "      <td>0.0</td>\n",
       "      <td>0.0</td>\n",
       "      <td>0.0</td>\n",
       "      <td>0.0</td>\n",
       "      <td>...</td>\n",
       "      <td>0.0</td>\n",
       "      <td>0.0</td>\n",
       "      <td>0.0</td>\n",
       "      <td>0.0</td>\n",
       "      <td>0.0</td>\n",
       "      <td>0.0</td>\n",
       "      <td>0.0</td>\n",
       "      <td>0.0</td>\n",
       "      <td>0.0</td>\n",
       "      <td>0.0</td>\n",
       "    </tr>\n",
       "    <tr>\n",
       "      <td>3</td>\n",
       "      <td>Food, Inc.</td>\n",
       "      <td>2229</td>\n",
       "      <td>2912.08</td>\n",
       "      <td>1.0</td>\n",
       "      <td>0.0</td>\n",
       "      <td>0.0</td>\n",
       "      <td>0.0</td>\n",
       "      <td>0.0</td>\n",
       "      <td>0.0</td>\n",
       "      <td>0.0</td>\n",
       "      <td>...</td>\n",
       "      <td>0.0</td>\n",
       "      <td>0.0</td>\n",
       "      <td>0.0</td>\n",
       "      <td>0.0</td>\n",
       "      <td>0.0</td>\n",
       "      <td>0.0</td>\n",
       "      <td>0.0</td>\n",
       "      <td>0.0</td>\n",
       "      <td>0.0</td>\n",
       "      <td>0.0</td>\n",
       "    </tr>\n",
       "    <tr>\n",
       "      <td>5</td>\n",
       "      <td>He Got Game</td>\n",
       "      <td>2215</td>\n",
       "      <td>2298.68</td>\n",
       "      <td>2.0</td>\n",
       "      <td>0.0</td>\n",
       "      <td>0.0</td>\n",
       "      <td>0.0</td>\n",
       "      <td>0.0</td>\n",
       "      <td>0.0</td>\n",
       "      <td>0.0</td>\n",
       "      <td>...</td>\n",
       "      <td>0.0</td>\n",
       "      <td>0.0</td>\n",
       "      <td>0.0</td>\n",
       "      <td>0.0</td>\n",
       "      <td>0.0</td>\n",
       "      <td>0.0</td>\n",
       "      <td>0.0</td>\n",
       "      <td>0.0</td>\n",
       "      <td>0.0</td>\n",
       "      <td>0.0</td>\n",
       "    </tr>\n",
       "    <tr>\n",
       "      <td>7</td>\n",
       "      <td>L'affaire Tournesol</td>\n",
       "      <td>5778</td>\n",
       "      <td>4268.06</td>\n",
       "      <td>3.0</td>\n",
       "      <td>0.0</td>\n",
       "      <td>0.0</td>\n",
       "      <td>0.0</td>\n",
       "      <td>0.0</td>\n",
       "      <td>0.0</td>\n",
       "      <td>0.0</td>\n",
       "      <td>...</td>\n",
       "      <td>0.0</td>\n",
       "      <td>0.0</td>\n",
       "      <td>0.0</td>\n",
       "      <td>0.0</td>\n",
       "      <td>0.0</td>\n",
       "      <td>0.0</td>\n",
       "      <td>0.0</td>\n",
       "      <td>0.0</td>\n",
       "      <td>0.0</td>\n",
       "      <td>0.0</td>\n",
       "    </tr>\n",
       "    <tr>\n",
       "      <td>8</td>\n",
       "      <td>Le bal des menteurs</td>\n",
       "      <td>6195</td>\n",
       "      <td>4659.09</td>\n",
       "      <td>4.0</td>\n",
       "      <td>0.0</td>\n",
       "      <td>0.0</td>\n",
       "      <td>0.0</td>\n",
       "      <td>0.0</td>\n",
       "      <td>0.0</td>\n",
       "      <td>0.0</td>\n",
       "      <td>...</td>\n",
       "      <td>0.0</td>\n",
       "      <td>0.0</td>\n",
       "      <td>0.0</td>\n",
       "      <td>0.0</td>\n",
       "      <td>0.0</td>\n",
       "      <td>0.0</td>\n",
       "      <td>0.0</td>\n",
       "      <td>0.0</td>\n",
       "      <td>0.0</td>\n",
       "      <td>0.0</td>\n",
       "    </tr>\n",
       "    <tr>\n",
       "      <td>...</td>\n",
       "      <td>...</td>\n",
       "      <td>...</td>\n",
       "      <td>...</td>\n",
       "      <td>...</td>\n",
       "      <td>...</td>\n",
       "      <td>...</td>\n",
       "      <td>...</td>\n",
       "      <td>...</td>\n",
       "      <td>...</td>\n",
       "      <td>...</td>\n",
       "      <td>...</td>\n",
       "      <td>...</td>\n",
       "      <td>...</td>\n",
       "      <td>...</td>\n",
       "      <td>...</td>\n",
       "      <td>...</td>\n",
       "      <td>...</td>\n",
       "      <td>...</td>\n",
       "      <td>...</td>\n",
       "      <td>...</td>\n",
       "      <td>...</td>\n",
       "    </tr>\n",
       "    <tr>\n",
       "      <td>42705</td>\n",
       "      <td>Chce sie zyc</td>\n",
       "      <td>312171</td>\n",
       "      <td>157.11</td>\n",
       "      <td>3274.0</td>\n",
       "      <td>0.0</td>\n",
       "      <td>0.0</td>\n",
       "      <td>0.0</td>\n",
       "      <td>0.0</td>\n",
       "      <td>0.0</td>\n",
       "      <td>0.0</td>\n",
       "      <td>...</td>\n",
       "      <td>0.0</td>\n",
       "      <td>0.0</td>\n",
       "      <td>0.0</td>\n",
       "      <td>0.0</td>\n",
       "      <td>0.0</td>\n",
       "      <td>0.0</td>\n",
       "      <td>0.0</td>\n",
       "      <td>0.0</td>\n",
       "      <td>0.0</td>\n",
       "      <td>0.0</td>\n",
       "    </tr>\n",
       "    <tr>\n",
       "      <td>42771</td>\n",
       "      <td>The Case for Christ</td>\n",
       "      <td>2622016</td>\n",
       "      <td>7291.43</td>\n",
       "      <td>3278.0</td>\n",
       "      <td>0.0</td>\n",
       "      <td>0.0</td>\n",
       "      <td>0.0</td>\n",
       "      <td>0.0</td>\n",
       "      <td>0.0</td>\n",
       "      <td>0.0</td>\n",
       "      <td>...</td>\n",
       "      <td>0.0</td>\n",
       "      <td>0.0</td>\n",
       "      <td>0.0</td>\n",
       "      <td>0.0</td>\n",
       "      <td>0.0</td>\n",
       "      <td>0.0</td>\n",
       "      <td>0.0</td>\n",
       "      <td>0.0</td>\n",
       "      <td>0.0</td>\n",
       "      <td>0.0</td>\n",
       "    </tr>\n",
       "    <tr>\n",
       "      <td>42811</td>\n",
       "      <td>Voyoucratie</td>\n",
       "      <td>1499984</td>\n",
       "      <td>2518.94</td>\n",
       "      <td>3279.0</td>\n",
       "      <td>0.0</td>\n",
       "      <td>0.0</td>\n",
       "      <td>0.0</td>\n",
       "      <td>0.0</td>\n",
       "      <td>0.0</td>\n",
       "      <td>0.0</td>\n",
       "      <td>...</td>\n",
       "      <td>0.0</td>\n",
       "      <td>0.0</td>\n",
       "      <td>0.0</td>\n",
       "      <td>0.0</td>\n",
       "      <td>0.0</td>\n",
       "      <td>0.0</td>\n",
       "      <td>0.0</td>\n",
       "      <td>0.0</td>\n",
       "      <td>0.0</td>\n",
       "      <td>0.0</td>\n",
       "    </tr>\n",
       "    <tr>\n",
       "      <td>42890</td>\n",
       "      <td>Forbidden Cuba</td>\n",
       "      <td>245817</td>\n",
       "      <td>521.30</td>\n",
       "      <td>3282.0</td>\n",
       "      <td>0.0</td>\n",
       "      <td>0.0</td>\n",
       "      <td>0.0</td>\n",
       "      <td>0.0</td>\n",
       "      <td>0.0</td>\n",
       "      <td>0.0</td>\n",
       "      <td>...</td>\n",
       "      <td>0.0</td>\n",
       "      <td>0.0</td>\n",
       "      <td>0.0</td>\n",
       "      <td>0.0</td>\n",
       "      <td>0.0</td>\n",
       "      <td>0.0</td>\n",
       "      <td>0.0</td>\n",
       "      <td>0.0</td>\n",
       "      <td>0.0</td>\n",
       "      <td>0.0</td>\n",
       "    </tr>\n",
       "    <tr>\n",
       "      <td>43181</td>\n",
       "      <td>Bobbi Jene</td>\n",
       "      <td>380845</td>\n",
       "      <td>167.22</td>\n",
       "      <td>3291.0</td>\n",
       "      <td>0.0</td>\n",
       "      <td>0.0</td>\n",
       "      <td>0.0</td>\n",
       "      <td>0.0</td>\n",
       "      <td>0.0</td>\n",
       "      <td>0.0</td>\n",
       "      <td>...</td>\n",
       "      <td>0.0</td>\n",
       "      <td>0.0</td>\n",
       "      <td>0.0</td>\n",
       "      <td>0.0</td>\n",
       "      <td>0.0</td>\n",
       "      <td>0.0</td>\n",
       "      <td>0.0</td>\n",
       "      <td>0.0</td>\n",
       "      <td>0.0</td>\n",
       "      <td>0.0</td>\n",
       "    </tr>\n",
       "  </tbody>\n",
       "</table>\n",
       "<p>808 rows × 1461 columns</p>\n",
       "</div>"
      ],
      "text/plain": [
       "                        Title  Movie_id  Royalties  index_x  \\\n",
       "Mama_id                                                       \n",
       "1        The Spanish Prisoner      1004    2183.00      0.0   \n",
       "3                  Food, Inc.      2229    2912.08      1.0   \n",
       "5                 He Got Game      2215    2298.68      2.0   \n",
       "7         L'affaire Tournesol      5778    4268.06      3.0   \n",
       "8         Le bal des menteurs      6195    4659.09      4.0   \n",
       "...                       ...       ...        ...      ...   \n",
       "42705            Chce sie zyc    312171     157.11   3274.0   \n",
       "42771     The Case for Christ   2622016    7291.43   3278.0   \n",
       "42811             Voyoucratie   1499984    2518.94   3279.0   \n",
       "42890          Forbidden Cuba    245817     521.30   3282.0   \n",
       "43181              Bobbi Jene    380845     167.22   3291.0   \n",
       "\n",
       "         installation art_x  superheroes_x  Irish conflicts_x  1990s_x  \\\n",
       "Mama_id                                                                  \n",
       "1                       0.0            0.0                0.0      0.0   \n",
       "3                       0.0            0.0                0.0      0.0   \n",
       "5                       0.0            0.0                0.0      0.0   \n",
       "7                       0.0            0.0                0.0      0.0   \n",
       "8                       0.0            0.0                0.0      0.0   \n",
       "...                     ...            ...                ...      ...   \n",
       "42705                   0.0            0.0                0.0      0.0   \n",
       "42771                   0.0            0.0                0.0      0.0   \n",
       "42811                   0.0            0.0                0.0      0.0   \n",
       "42890                   0.0            0.0                0.0      0.0   \n",
       "43181                   0.0            0.0                0.0      0.0   \n",
       "\n",
       "         spies_x  psychological abuse_x  ...  frenemies_y  hot pursuits_y  \\\n",
       "Mama_id                                  ...                                \n",
       "1            0.0                    0.0  ...          0.0             0.0   \n",
       "3            0.0                    0.0  ...          0.0             0.0   \n",
       "5            0.0                    0.0  ...          0.0             0.0   \n",
       "7            0.0                    0.0  ...          0.0             0.0   \n",
       "8            0.0                    0.0  ...          0.0             0.0   \n",
       "...          ...                    ...  ...          ...             ...   \n",
       "42705        0.0                    0.0  ...          0.0             0.0   \n",
       "42771        0.0                    0.0  ...          0.0             0.0   \n",
       "42811        0.0                    0.0  ...          0.0             0.0   \n",
       "42890        0.0                    0.0  ...          0.0             0.0   \n",
       "43181        0.0                    0.0  ...          0.0             0.0   \n",
       "\n",
       "         live concerts_y  in the skies_y  zombies_y  climbing_y  \\\n",
       "Mama_id                                                           \n",
       "1                    0.0             0.0        0.0         0.0   \n",
       "3                    0.0             0.0        0.0         0.0   \n",
       "5                    0.0             0.0        0.0         0.0   \n",
       "7                    0.0             0.0        0.0         0.0   \n",
       "8                    0.0             0.0        0.0         0.0   \n",
       "...                  ...             ...        ...         ...   \n",
       "42705                0.0             0.0        0.0         0.0   \n",
       "42771                0.0             0.0        0.0         0.0   \n",
       "42811                0.0             0.0        0.0         0.0   \n",
       "42890                0.0             0.0        0.0         0.0   \n",
       "43181                0.0             0.0        0.0         0.0   \n",
       "\n",
       "         American Revolutionary War_y  looking for a parent_y  \\\n",
       "Mama_id                                                         \n",
       "1                                 0.0                     0.0   \n",
       "3                                 0.0                     0.0   \n",
       "5                                 0.0                     0.0   \n",
       "7                                 0.0                     0.0   \n",
       "8                                 0.0                     0.0   \n",
       "...                               ...                     ...   \n",
       "42705                             0.0                     0.0   \n",
       "42771                             0.0                     0.0   \n",
       "42811                             0.0                     0.0   \n",
       "42890                             0.0                     0.0   \n",
       "43181                             0.0                     0.0   \n",
       "\n",
       "         bars and restaurants_y  Western United States_y  \n",
       "Mama_id                                                   \n",
       "1                           0.0                      0.0  \n",
       "3                           0.0                      0.0  \n",
       "5                           0.0                      0.0  \n",
       "7                           0.0                      0.0  \n",
       "8                           0.0                      0.0  \n",
       "...                         ...                      ...  \n",
       "42705                       0.0                      0.0  \n",
       "42771                       0.0                      0.0  \n",
       "42811                       0.0                      0.0  \n",
       "42890                       0.0                      0.0  \n",
       "43181                       0.0                      0.0  \n",
       "\n",
       "[808 rows x 1461 columns]"
      ]
     },
     "execution_count": 142,
     "metadata": {},
     "output_type": "execute_result"
    }
   ],
   "source": []
  },
  {
   "cell_type": "code",
   "execution_count": 263,
   "metadata": {},
   "outputs": [
    {
     "data": {
      "text/plain": [
       "Country_of_market\n",
       "Indonesia                    54040.720161\n",
       "Viet Nam                     34541.481399\n",
       "Colombia                      6796.955871\n",
       "Chile                         2760.260602\n",
       "Japan                          511.069732\n",
       "Hungary                        375.161004\n",
       "Taiwan, Province of China      162.680078\n",
       "Russian Federation             145.275899\n",
       "Mexico                         136.977311\n",
       "Philippines                    110.665812\n",
       "Norway                         107.876944\n",
       "Sweden                         104.053432\n",
       "Denmark                         96.103393\n",
       "Thailand                        81.430274\n",
       "Hong Kong                       53.700364\n",
       "South Africa                    39.032639\n",
       "Czech Republic                  35.821497\n",
       "Israel                          20.508519\n",
       "Brazil                          17.067450\n",
       "Peru                            10.829633\n",
       "Singapore                       10.380447\n",
       "Malaysia                        10.059596\n",
       "Spain                            9.397947\n",
       "Italy                            8.794103\n",
       "Myanmar                          8.580000\n",
       "Lebanon                          8.580000\n",
       "United States                    8.429868\n",
       "Canada                           7.254858\n",
       "Argentina                        7.221855\n",
       "Poland                           6.892621\n",
       "Name: Royalties, dtype: float64"
      ]
     },
     "execution_count": 263,
     "metadata": {},
     "output_type": "execute_result"
    }
   ],
   "source": [
    "df.groupby('Country_of_market')['Royalties'].mean().sort_values(ascending = False).head(30)"
   ]
  },
  {
   "cell_type": "code",
   "execution_count": 124,
   "metadata": {},
   "outputs": [],
   "source": [
    "it_fr = df[df['source_country']=='itunesFrance']"
   ]
  },
  {
   "cell_type": "code",
   "execution_count": 125,
   "metadata": {},
   "outputs": [],
   "source": [
    "it_fr = it_fr.groupby(['Mama_id','Title']).sum()"
   ]
  },
  {
   "cell_type": "code",
   "execution_count": 126,
   "metadata": {},
   "outputs": [],
   "source": [
    "it_fr = it_fr.reset_index().set_index('Mama_id')"
   ]
  },
  {
   "cell_type": "code",
   "execution_count": 131,
   "metadata": {},
   "outputs": [],
   "source": [
    "it_fr = it_fr.merge(tags,left_index=True, right_index=True, how='left').dropna()"
   ]
  },
  {
   "cell_type": "code",
   "execution_count": 264,
   "metadata": {},
   "outputs": [
    {
     "data": {
      "text/html": [
       "<div>\n",
       "<style scoped>\n",
       "    .dataframe tbody tr th:only-of-type {\n",
       "        vertical-align: middle;\n",
       "    }\n",
       "\n",
       "    .dataframe tbody tr th {\n",
       "        vertical-align: top;\n",
       "    }\n",
       "\n",
       "    .dataframe thead th {\n",
       "        text-align: right;\n",
       "    }\n",
       "</style>\n",
       "<table border=\"1\" class=\"dataframe\">\n",
       "  <thead>\n",
       "    <tr style=\"text-align: right;\">\n",
       "      <th></th>\n",
       "      <th>Title</th>\n",
       "      <th>Movie_id</th>\n",
       "      <th>Royalties</th>\n",
       "      <th>index_x</th>\n",
       "      <th>installation art_x</th>\n",
       "      <th>superheroes_x</th>\n",
       "      <th>Irish conflicts_x</th>\n",
       "      <th>1990s_x</th>\n",
       "      <th>spies_x</th>\n",
       "      <th>psychological abuse_x</th>\n",
       "      <th>...</th>\n",
       "      <th>frenemies_y</th>\n",
       "      <th>hot pursuits_y</th>\n",
       "      <th>live concerts_y</th>\n",
       "      <th>in the skies_y</th>\n",
       "      <th>zombies_y</th>\n",
       "      <th>climbing_y</th>\n",
       "      <th>American Revolutionary War_y</th>\n",
       "      <th>looking for a parent_y</th>\n",
       "      <th>bars and restaurants_y</th>\n",
       "      <th>Western United States_y</th>\n",
       "    </tr>\n",
       "    <tr>\n",
       "      <th>Mama_id</th>\n",
       "      <th></th>\n",
       "      <th></th>\n",
       "      <th></th>\n",
       "      <th></th>\n",
       "      <th></th>\n",
       "      <th></th>\n",
       "      <th></th>\n",
       "      <th></th>\n",
       "      <th></th>\n",
       "      <th></th>\n",
       "      <th></th>\n",
       "      <th></th>\n",
       "      <th></th>\n",
       "      <th></th>\n",
       "      <th></th>\n",
       "      <th></th>\n",
       "      <th></th>\n",
       "      <th></th>\n",
       "      <th></th>\n",
       "      <th></th>\n",
       "      <th></th>\n",
       "    </tr>\n",
       "  </thead>\n",
       "  <tbody>\n",
       "    <tr>\n",
       "      <td>1</td>\n",
       "      <td>The Spanish Prisoner</td>\n",
       "      <td>1004</td>\n",
       "      <td>2183.00</td>\n",
       "      <td>0.0</td>\n",
       "      <td>0.0</td>\n",
       "      <td>0.0</td>\n",
       "      <td>0.0</td>\n",
       "      <td>0.0</td>\n",
       "      <td>0.0</td>\n",
       "      <td>0.0</td>\n",
       "      <td>...</td>\n",
       "      <td>0.0</td>\n",
       "      <td>0.0</td>\n",
       "      <td>0.0</td>\n",
       "      <td>0.0</td>\n",
       "      <td>0.0</td>\n",
       "      <td>0.0</td>\n",
       "      <td>0.0</td>\n",
       "      <td>0.0</td>\n",
       "      <td>0.0</td>\n",
       "      <td>0.0</td>\n",
       "    </tr>\n",
       "    <tr>\n",
       "      <td>3</td>\n",
       "      <td>Food, Inc.</td>\n",
       "      <td>2229</td>\n",
       "      <td>2912.08</td>\n",
       "      <td>1.0</td>\n",
       "      <td>0.0</td>\n",
       "      <td>0.0</td>\n",
       "      <td>0.0</td>\n",
       "      <td>0.0</td>\n",
       "      <td>0.0</td>\n",
       "      <td>0.0</td>\n",
       "      <td>...</td>\n",
       "      <td>0.0</td>\n",
       "      <td>0.0</td>\n",
       "      <td>0.0</td>\n",
       "      <td>0.0</td>\n",
       "      <td>0.0</td>\n",
       "      <td>0.0</td>\n",
       "      <td>0.0</td>\n",
       "      <td>0.0</td>\n",
       "      <td>0.0</td>\n",
       "      <td>0.0</td>\n",
       "    </tr>\n",
       "    <tr>\n",
       "      <td>5</td>\n",
       "      <td>He Got Game</td>\n",
       "      <td>2215</td>\n",
       "      <td>2298.68</td>\n",
       "      <td>2.0</td>\n",
       "      <td>0.0</td>\n",
       "      <td>0.0</td>\n",
       "      <td>0.0</td>\n",
       "      <td>0.0</td>\n",
       "      <td>0.0</td>\n",
       "      <td>0.0</td>\n",
       "      <td>...</td>\n",
       "      <td>0.0</td>\n",
       "      <td>0.0</td>\n",
       "      <td>0.0</td>\n",
       "      <td>0.0</td>\n",
       "      <td>0.0</td>\n",
       "      <td>0.0</td>\n",
       "      <td>0.0</td>\n",
       "      <td>0.0</td>\n",
       "      <td>0.0</td>\n",
       "      <td>0.0</td>\n",
       "    </tr>\n",
       "    <tr>\n",
       "      <td>7</td>\n",
       "      <td>L'affaire Tournesol</td>\n",
       "      <td>5778</td>\n",
       "      <td>4268.06</td>\n",
       "      <td>3.0</td>\n",
       "      <td>0.0</td>\n",
       "      <td>0.0</td>\n",
       "      <td>0.0</td>\n",
       "      <td>0.0</td>\n",
       "      <td>0.0</td>\n",
       "      <td>0.0</td>\n",
       "      <td>...</td>\n",
       "      <td>0.0</td>\n",
       "      <td>0.0</td>\n",
       "      <td>0.0</td>\n",
       "      <td>0.0</td>\n",
       "      <td>0.0</td>\n",
       "      <td>0.0</td>\n",
       "      <td>0.0</td>\n",
       "      <td>0.0</td>\n",
       "      <td>0.0</td>\n",
       "      <td>0.0</td>\n",
       "    </tr>\n",
       "    <tr>\n",
       "      <td>8</td>\n",
       "      <td>Le bal des menteurs</td>\n",
       "      <td>6195</td>\n",
       "      <td>4659.09</td>\n",
       "      <td>4.0</td>\n",
       "      <td>0.0</td>\n",
       "      <td>0.0</td>\n",
       "      <td>0.0</td>\n",
       "      <td>0.0</td>\n",
       "      <td>0.0</td>\n",
       "      <td>0.0</td>\n",
       "      <td>...</td>\n",
       "      <td>0.0</td>\n",
       "      <td>0.0</td>\n",
       "      <td>0.0</td>\n",
       "      <td>0.0</td>\n",
       "      <td>0.0</td>\n",
       "      <td>0.0</td>\n",
       "      <td>0.0</td>\n",
       "      <td>0.0</td>\n",
       "      <td>0.0</td>\n",
       "      <td>0.0</td>\n",
       "    </tr>\n",
       "    <tr>\n",
       "      <td>...</td>\n",
       "      <td>...</td>\n",
       "      <td>...</td>\n",
       "      <td>...</td>\n",
       "      <td>...</td>\n",
       "      <td>...</td>\n",
       "      <td>...</td>\n",
       "      <td>...</td>\n",
       "      <td>...</td>\n",
       "      <td>...</td>\n",
       "      <td>...</td>\n",
       "      <td>...</td>\n",
       "      <td>...</td>\n",
       "      <td>...</td>\n",
       "      <td>...</td>\n",
       "      <td>...</td>\n",
       "      <td>...</td>\n",
       "      <td>...</td>\n",
       "      <td>...</td>\n",
       "      <td>...</td>\n",
       "      <td>...</td>\n",
       "      <td>...</td>\n",
       "    </tr>\n",
       "    <tr>\n",
       "      <td>42705</td>\n",
       "      <td>Chce sie zyc</td>\n",
       "      <td>312171</td>\n",
       "      <td>157.11</td>\n",
       "      <td>3274.0</td>\n",
       "      <td>0.0</td>\n",
       "      <td>0.0</td>\n",
       "      <td>0.0</td>\n",
       "      <td>0.0</td>\n",
       "      <td>0.0</td>\n",
       "      <td>0.0</td>\n",
       "      <td>...</td>\n",
       "      <td>0.0</td>\n",
       "      <td>0.0</td>\n",
       "      <td>0.0</td>\n",
       "      <td>0.0</td>\n",
       "      <td>0.0</td>\n",
       "      <td>0.0</td>\n",
       "      <td>0.0</td>\n",
       "      <td>0.0</td>\n",
       "      <td>0.0</td>\n",
       "      <td>0.0</td>\n",
       "    </tr>\n",
       "    <tr>\n",
       "      <td>42771</td>\n",
       "      <td>The Case for Christ</td>\n",
       "      <td>2622016</td>\n",
       "      <td>7291.43</td>\n",
       "      <td>3278.0</td>\n",
       "      <td>0.0</td>\n",
       "      <td>0.0</td>\n",
       "      <td>0.0</td>\n",
       "      <td>0.0</td>\n",
       "      <td>0.0</td>\n",
       "      <td>0.0</td>\n",
       "      <td>...</td>\n",
       "      <td>0.0</td>\n",
       "      <td>0.0</td>\n",
       "      <td>0.0</td>\n",
       "      <td>0.0</td>\n",
       "      <td>0.0</td>\n",
       "      <td>0.0</td>\n",
       "      <td>0.0</td>\n",
       "      <td>0.0</td>\n",
       "      <td>0.0</td>\n",
       "      <td>0.0</td>\n",
       "    </tr>\n",
       "    <tr>\n",
       "      <td>42811</td>\n",
       "      <td>Voyoucratie</td>\n",
       "      <td>1499984</td>\n",
       "      <td>2518.94</td>\n",
       "      <td>3279.0</td>\n",
       "      <td>0.0</td>\n",
       "      <td>0.0</td>\n",
       "      <td>0.0</td>\n",
       "      <td>0.0</td>\n",
       "      <td>0.0</td>\n",
       "      <td>0.0</td>\n",
       "      <td>...</td>\n",
       "      <td>0.0</td>\n",
       "      <td>0.0</td>\n",
       "      <td>0.0</td>\n",
       "      <td>0.0</td>\n",
       "      <td>0.0</td>\n",
       "      <td>0.0</td>\n",
       "      <td>0.0</td>\n",
       "      <td>0.0</td>\n",
       "      <td>0.0</td>\n",
       "      <td>0.0</td>\n",
       "    </tr>\n",
       "    <tr>\n",
       "      <td>42890</td>\n",
       "      <td>Forbidden Cuba</td>\n",
       "      <td>245817</td>\n",
       "      <td>521.30</td>\n",
       "      <td>3282.0</td>\n",
       "      <td>0.0</td>\n",
       "      <td>0.0</td>\n",
       "      <td>0.0</td>\n",
       "      <td>0.0</td>\n",
       "      <td>0.0</td>\n",
       "      <td>0.0</td>\n",
       "      <td>...</td>\n",
       "      <td>0.0</td>\n",
       "      <td>0.0</td>\n",
       "      <td>0.0</td>\n",
       "      <td>0.0</td>\n",
       "      <td>0.0</td>\n",
       "      <td>0.0</td>\n",
       "      <td>0.0</td>\n",
       "      <td>0.0</td>\n",
       "      <td>0.0</td>\n",
       "      <td>0.0</td>\n",
       "    </tr>\n",
       "    <tr>\n",
       "      <td>43181</td>\n",
       "      <td>Bobbi Jene</td>\n",
       "      <td>380845</td>\n",
       "      <td>167.22</td>\n",
       "      <td>3291.0</td>\n",
       "      <td>0.0</td>\n",
       "      <td>0.0</td>\n",
       "      <td>0.0</td>\n",
       "      <td>0.0</td>\n",
       "      <td>0.0</td>\n",
       "      <td>0.0</td>\n",
       "      <td>...</td>\n",
       "      <td>0.0</td>\n",
       "      <td>0.0</td>\n",
       "      <td>0.0</td>\n",
       "      <td>0.0</td>\n",
       "      <td>0.0</td>\n",
       "      <td>0.0</td>\n",
       "      <td>0.0</td>\n",
       "      <td>0.0</td>\n",
       "      <td>0.0</td>\n",
       "      <td>0.0</td>\n",
       "    </tr>\n",
       "  </tbody>\n",
       "</table>\n",
       "<p>808 rows × 1461 columns</p>\n",
       "</div>"
      ],
      "text/plain": [
       "                        Title  Movie_id  Royalties  index_x  \\\n",
       "Mama_id                                                       \n",
       "1        The Spanish Prisoner      1004    2183.00      0.0   \n",
       "3                  Food, Inc.      2229    2912.08      1.0   \n",
       "5                 He Got Game      2215    2298.68      2.0   \n",
       "7         L'affaire Tournesol      5778    4268.06      3.0   \n",
       "8         Le bal des menteurs      6195    4659.09      4.0   \n",
       "...                       ...       ...        ...      ...   \n",
       "42705            Chce sie zyc    312171     157.11   3274.0   \n",
       "42771     The Case for Christ   2622016    7291.43   3278.0   \n",
       "42811             Voyoucratie   1499984    2518.94   3279.0   \n",
       "42890          Forbidden Cuba    245817     521.30   3282.0   \n",
       "43181              Bobbi Jene    380845     167.22   3291.0   \n",
       "\n",
       "         installation art_x  superheroes_x  Irish conflicts_x  1990s_x  \\\n",
       "Mama_id                                                                  \n",
       "1                       0.0            0.0                0.0      0.0   \n",
       "3                       0.0            0.0                0.0      0.0   \n",
       "5                       0.0            0.0                0.0      0.0   \n",
       "7                       0.0            0.0                0.0      0.0   \n",
       "8                       0.0            0.0                0.0      0.0   \n",
       "...                     ...            ...                ...      ...   \n",
       "42705                   0.0            0.0                0.0      0.0   \n",
       "42771                   0.0            0.0                0.0      0.0   \n",
       "42811                   0.0            0.0                0.0      0.0   \n",
       "42890                   0.0            0.0                0.0      0.0   \n",
       "43181                   0.0            0.0                0.0      0.0   \n",
       "\n",
       "         spies_x  psychological abuse_x  ...  frenemies_y  hot pursuits_y  \\\n",
       "Mama_id                                  ...                                \n",
       "1            0.0                    0.0  ...          0.0             0.0   \n",
       "3            0.0                    0.0  ...          0.0             0.0   \n",
       "5            0.0                    0.0  ...          0.0             0.0   \n",
       "7            0.0                    0.0  ...          0.0             0.0   \n",
       "8            0.0                    0.0  ...          0.0             0.0   \n",
       "...          ...                    ...  ...          ...             ...   \n",
       "42705        0.0                    0.0  ...          0.0             0.0   \n",
       "42771        0.0                    0.0  ...          0.0             0.0   \n",
       "42811        0.0                    0.0  ...          0.0             0.0   \n",
       "42890        0.0                    0.0  ...          0.0             0.0   \n",
       "43181        0.0                    0.0  ...          0.0             0.0   \n",
       "\n",
       "         live concerts_y  in the skies_y  zombies_y  climbing_y  \\\n",
       "Mama_id                                                           \n",
       "1                    0.0             0.0        0.0         0.0   \n",
       "3                    0.0             0.0        0.0         0.0   \n",
       "5                    0.0             0.0        0.0         0.0   \n",
       "7                    0.0             0.0        0.0         0.0   \n",
       "8                    0.0             0.0        0.0         0.0   \n",
       "...                  ...             ...        ...         ...   \n",
       "42705                0.0             0.0        0.0         0.0   \n",
       "42771                0.0             0.0        0.0         0.0   \n",
       "42811                0.0             0.0        0.0         0.0   \n",
       "42890                0.0             0.0        0.0         0.0   \n",
       "43181                0.0             0.0        0.0         0.0   \n",
       "\n",
       "         American Revolutionary War_y  looking for a parent_y  \\\n",
       "Mama_id                                                         \n",
       "1                                 0.0                     0.0   \n",
       "3                                 0.0                     0.0   \n",
       "5                                 0.0                     0.0   \n",
       "7                                 0.0                     0.0   \n",
       "8                                 0.0                     0.0   \n",
       "...                               ...                     ...   \n",
       "42705                             0.0                     0.0   \n",
       "42771                             0.0                     0.0   \n",
       "42811                             0.0                     0.0   \n",
       "42890                             0.0                     0.0   \n",
       "43181                             0.0                     0.0   \n",
       "\n",
       "         bars and restaurants_y  Western United States_y  \n",
       "Mama_id                                                   \n",
       "1                           0.0                      0.0  \n",
       "3                           0.0                      0.0  \n",
       "5                           0.0                      0.0  \n",
       "7                           0.0                      0.0  \n",
       "8                           0.0                      0.0  \n",
       "...                         ...                      ...  \n",
       "42705                       0.0                      0.0  \n",
       "42771                       0.0                      0.0  \n",
       "42811                       0.0                      0.0  \n",
       "42890                       0.0                      0.0  \n",
       "43181                       0.0                      0.0  \n",
       "\n",
       "[808 rows x 1461 columns]"
      ]
     },
     "execution_count": 264,
     "metadata": {},
     "output_type": "execute_result"
    }
   ],
   "source": [
    "it_fr"
   ]
  },
  {
   "cell_type": "code",
   "execution_count": 62,
   "metadata": {},
   "outputs": [
    {
     "data": {
      "text/html": [
       "<div>\n",
       "<style scoped>\n",
       "    .dataframe tbody tr th:only-of-type {\n",
       "        vertical-align: middle;\n",
       "    }\n",
       "\n",
       "    .dataframe tbody tr th {\n",
       "        vertical-align: top;\n",
       "    }\n",
       "\n",
       "    .dataframe thead th {\n",
       "        text-align: right;\n",
       "    }\n",
       "</style>\n",
       "<table border=\"1\" class=\"dataframe\">\n",
       "  <thead>\n",
       "    <tr style=\"text-align: right;\">\n",
       "      <th></th>\n",
       "      <th>Movie_id</th>\n",
       "      <th>Mama_id</th>\n",
       "      <th>Title</th>\n",
       "      <th>Country_of_origin</th>\n",
       "      <th>Country_of_market</th>\n",
       "      <th>Royalties</th>\n",
       "      <th>Date</th>\n",
       "      <th>Source</th>\n",
       "      <th>source_country</th>\n",
       "    </tr>\n",
       "  </thead>\n",
       "  <tbody>\n",
       "    <tr>\n",
       "      <td>3183</td>\n",
       "      <td>2</td>\n",
       "      <td>1</td>\n",
       "      <td>The Spanish Prisoner</td>\n",
       "      <td>US</td>\n",
       "      <td>France</td>\n",
       "      <td>20.2</td>\n",
       "      <td>2011-08-15</td>\n",
       "      <td>itunes</td>\n",
       "      <td>itunesFrance</td>\n",
       "    </tr>\n",
       "    <tr>\n",
       "      <td>3184</td>\n",
       "      <td>2</td>\n",
       "      <td>1</td>\n",
       "      <td>The Spanish Prisoner</td>\n",
       "      <td>US</td>\n",
       "      <td>France</td>\n",
       "      <td>20.2</td>\n",
       "      <td>2011-08-16</td>\n",
       "      <td>itunes</td>\n",
       "      <td>itunesFrance</td>\n",
       "    </tr>\n",
       "    <tr>\n",
       "      <td>3185</td>\n",
       "      <td>2</td>\n",
       "      <td>1</td>\n",
       "      <td>The Spanish Prisoner</td>\n",
       "      <td>US</td>\n",
       "      <td>France</td>\n",
       "      <td>12.7</td>\n",
       "      <td>2011-08-17</td>\n",
       "      <td>itunes</td>\n",
       "      <td>itunesFrance</td>\n",
       "    </tr>\n",
       "    <tr>\n",
       "      <td>3186</td>\n",
       "      <td>2</td>\n",
       "      <td>1</td>\n",
       "      <td>The Spanish Prisoner</td>\n",
       "      <td>US</td>\n",
       "      <td>France</td>\n",
       "      <td>12.7</td>\n",
       "      <td>2011-08-18</td>\n",
       "      <td>itunes</td>\n",
       "      <td>itunesFrance</td>\n",
       "    </tr>\n",
       "    <tr>\n",
       "      <td>3187</td>\n",
       "      <td>2</td>\n",
       "      <td>1</td>\n",
       "      <td>The Spanish Prisoner</td>\n",
       "      <td>US</td>\n",
       "      <td>France</td>\n",
       "      <td>5.2</td>\n",
       "      <td>2011-08-19</td>\n",
       "      <td>itunes</td>\n",
       "      <td>itunesFrance</td>\n",
       "    </tr>\n",
       "  </tbody>\n",
       "</table>\n",
       "</div>"
      ],
      "text/plain": [
       "      Movie_id  Mama_id                 Title Country_of_origin  \\\n",
       "3183         2        1  The Spanish Prisoner                US   \n",
       "3184         2        1  The Spanish Prisoner                US   \n",
       "3185         2        1  The Spanish Prisoner                US   \n",
       "3186         2        1  The Spanish Prisoner                US   \n",
       "3187         2        1  The Spanish Prisoner                US   \n",
       "\n",
       "     Country_of_market  Royalties        Date  Source source_country  \n",
       "3183            France       20.2  2011-08-15  itunes   itunesFrance  \n",
       "3184            France       20.2  2011-08-16  itunes   itunesFrance  \n",
       "3185            France       12.7  2011-08-17  itunes   itunesFrance  \n",
       "3186            France       12.7  2011-08-18  itunes   itunesFrance  \n",
       "3187            France        5.2  2011-08-19  itunes   itunesFrance  "
      ]
     },
     "execution_count": 62,
     "metadata": {},
     "output_type": "execute_result"
    }
   ],
   "source": [
    "df.head()"
   ]
  },
  {
   "cell_type": "code",
   "execution_count": null,
   "metadata": {},
   "outputs": [],
   "source": [
    "df.hea"
   ]
  }
 ],
 "metadata": {
  "kernelspec": {
   "display_name": "Python 3",
   "language": "python",
   "name": "python3"
  },
  "language_info": {
   "codemirror_mode": {
    "name": "ipython",
    "version": 3
   },
   "file_extension": ".py",
   "mimetype": "text/x-python",
   "name": "python",
   "nbconvert_exporter": "python",
   "pygments_lexer": "ipython3",
   "version": "3.7.4"
  }
 },
 "nbformat": 4,
 "nbformat_minor": 4
}
